{
 "cells": [
  {
   "cell_type": "markdown",
   "id": "f66bc839-d64a-4689-8482-5cd5972b540a",
   "metadata": {},
   "source": [
    "# Optimizing - KNN, Random Forest, Gradient Boost "
   ]
  },
  {
   "cell_type": "code",
   "execution_count": 1,
   "id": "de33fbd6-33e4-4e19-bd79-24f46db94317",
   "metadata": {},
   "outputs": [],
   "source": [
    "import pickle\n",
    "import pandas as pd\n",
    "import numpy as np\n",
    "import yaml"
   ]
  },
  {
   "cell_type": "code",
   "execution_count": 14,
   "id": "d4b30056-d3b1-410f-a8bd-55085f471331",
   "metadata": {},
   "outputs": [],
   "source": [
    "try:\n",
    "    with open(\"../config.yaml\", 'r') as file:\n",
    "        config = yaml.safe_load(file)\n",
    "except Exception as e:\n",
    "    print('Error reading config file')"
   ]
  },
  {
   "cell_type": "code",
   "execution_count": 7,
   "id": "ae9e3a5f-7c25-4613-aa96-555449ad9af2",
   "metadata": {},
   "outputs": [],
   "source": [
    "data = pd.read_csv(config['data']['data_region_cyc'])"
   ]
  },
  {
   "cell_type": "code",
   "execution_count": 8,
   "id": "a9e466ac-5ba2-4082-833d-24f08ecbfc7a",
   "metadata": {},
   "outputs": [
    {
     "data": {
      "text/html": [
       "<div>\n",
       "<style scoped>\n",
       "    .dataframe tbody tr th:only-of-type {\n",
       "        vertical-align: middle;\n",
       "    }\n",
       "\n",
       "    .dataframe tbody tr th {\n",
       "        vertical-align: top;\n",
       "    }\n",
       "\n",
       "    .dataframe thead th {\n",
       "        text-align: right;\n",
       "    }\n",
       "</style>\n",
       "<table border=\"1\" class=\"dataframe\">\n",
       "  <thead>\n",
       "    <tr style=\"text-align: right;\">\n",
       "      <th></th>\n",
       "      <th>temperature_f</th>\n",
       "      <th>precipitation_in</th>\n",
       "      <th>windspeed_mph</th>\n",
       "      <th>special_event</th>\n",
       "      <th>count</th>\n",
       "      <th>region</th>\n",
       "      <th>week_number_sin</th>\n",
       "      <th>week_number_cos</th>\n",
       "      <th>month_sin</th>\n",
       "      <th>month_cos</th>\n",
       "      <th>weekday_sin</th>\n",
       "      <th>weekday_cos</th>\n",
       "      <th>hour_sin</th>\n",
       "      <th>hour_cos</th>\n",
       "    </tr>\n",
       "  </thead>\n",
       "  <tbody>\n",
       "    <tr>\n",
       "      <th>0</th>\n",
       "      <td>78.6</td>\n",
       "      <td>0.0</td>\n",
       "      <td>3.2</td>\n",
       "      <td>0</td>\n",
       "      <td>1</td>\n",
       "      <td>lms</td>\n",
       "      <td>-3.216245e-16</td>\n",
       "      <td>-1.0</td>\n",
       "      <td>-0.5</td>\n",
       "      <td>-0.866025</td>\n",
       "      <td>0.433884</td>\n",
       "      <td>0.433884</td>\n",
       "      <td>0.0</td>\n",
       "      <td>1.0</td>\n",
       "    </tr>\n",
       "    <tr>\n",
       "      <th>1</th>\n",
       "      <td>78.6</td>\n",
       "      <td>0.0</td>\n",
       "      <td>3.2</td>\n",
       "      <td>0</td>\n",
       "      <td>1</td>\n",
       "      <td>lme</td>\n",
       "      <td>-3.216245e-16</td>\n",
       "      <td>-1.0</td>\n",
       "      <td>-0.5</td>\n",
       "      <td>-0.866025</td>\n",
       "      <td>0.433884</td>\n",
       "      <td>0.433884</td>\n",
       "      <td>0.0</td>\n",
       "      <td>1.0</td>\n",
       "    </tr>\n",
       "    <tr>\n",
       "      <th>2</th>\n",
       "      <td>78.6</td>\n",
       "      <td>0.0</td>\n",
       "      <td>3.2</td>\n",
       "      <td>0</td>\n",
       "      <td>1</td>\n",
       "      <td>lmw</td>\n",
       "      <td>-3.216245e-16</td>\n",
       "      <td>-1.0</td>\n",
       "      <td>-0.5</td>\n",
       "      <td>-0.866025</td>\n",
       "      <td>0.433884</td>\n",
       "      <td>0.433884</td>\n",
       "      <td>0.0</td>\n",
       "      <td>1.0</td>\n",
       "    </tr>\n",
       "    <tr>\n",
       "      <th>3</th>\n",
       "      <td>78.6</td>\n",
       "      <td>0.0</td>\n",
       "      <td>3.2</td>\n",
       "      <td>0</td>\n",
       "      <td>1</td>\n",
       "      <td>lme</td>\n",
       "      <td>-3.216245e-16</td>\n",
       "      <td>-1.0</td>\n",
       "      <td>-0.5</td>\n",
       "      <td>-0.866025</td>\n",
       "      <td>0.433884</td>\n",
       "      <td>0.433884</td>\n",
       "      <td>0.0</td>\n",
       "      <td>1.0</td>\n",
       "    </tr>\n",
       "    <tr>\n",
       "      <th>4</th>\n",
       "      <td>78.6</td>\n",
       "      <td>0.0</td>\n",
       "      <td>3.2</td>\n",
       "      <td>0</td>\n",
       "      <td>1</td>\n",
       "      <td>lme</td>\n",
       "      <td>-3.216245e-16</td>\n",
       "      <td>-1.0</td>\n",
       "      <td>-0.5</td>\n",
       "      <td>-0.866025</td>\n",
       "      <td>0.433884</td>\n",
       "      <td>0.433884</td>\n",
       "      <td>0.0</td>\n",
       "      <td>1.0</td>\n",
       "    </tr>\n",
       "  </tbody>\n",
       "</table>\n",
       "</div>"
      ],
      "text/plain": [
       "   temperature_f  precipitation_in  windspeed_mph  special_event  count  \\\n",
       "0           78.6               0.0            3.2              0      1   \n",
       "1           78.6               0.0            3.2              0      1   \n",
       "2           78.6               0.0            3.2              0      1   \n",
       "3           78.6               0.0            3.2              0      1   \n",
       "4           78.6               0.0            3.2              0      1   \n",
       "\n",
       "  region  week_number_sin  week_number_cos  month_sin  month_cos  weekday_sin  \\\n",
       "0    lms    -3.216245e-16             -1.0       -0.5  -0.866025     0.433884   \n",
       "1    lme    -3.216245e-16             -1.0       -0.5  -0.866025     0.433884   \n",
       "2    lmw    -3.216245e-16             -1.0       -0.5  -0.866025     0.433884   \n",
       "3    lme    -3.216245e-16             -1.0       -0.5  -0.866025     0.433884   \n",
       "4    lme    -3.216245e-16             -1.0       -0.5  -0.866025     0.433884   \n",
       "\n",
       "   weekday_cos  hour_sin  hour_cos  \n",
       "0     0.433884       0.0       1.0  \n",
       "1     0.433884       0.0       1.0  \n",
       "2     0.433884       0.0       1.0  \n",
       "3     0.433884       0.0       1.0  \n",
       "4     0.433884       0.0       1.0  "
      ]
     },
     "execution_count": 8,
     "metadata": {},
     "output_type": "execute_result"
    }
   ],
   "source": [
    "data.head()"
   ]
  },
  {
   "cell_type": "code",
   "execution_count": 9,
   "id": "f03b08b0-0ae9-44cf-987d-39e74cc0dcfd",
   "metadata": {},
   "outputs": [
    {
     "name": "stdout",
     "output_type": "stream",
     "text": [
      "<class 'pandas.core.frame.DataFrame'>\n",
      "RangeIndex: 321129 entries, 0 to 321128\n",
      "Data columns (total 14 columns):\n",
      " #   Column            Non-Null Count   Dtype  \n",
      "---  ------            --------------   -----  \n",
      " 0   temperature_f     321129 non-null  float64\n",
      " 1   precipitation_in  321129 non-null  float64\n",
      " 2   windspeed_mph     321129 non-null  float64\n",
      " 3   special_event     321129 non-null  int64  \n",
      " 4   count             321129 non-null  int64  \n",
      " 5   region            321129 non-null  object \n",
      " 6   week_number_sin   321129 non-null  float64\n",
      " 7   week_number_cos   321129 non-null  float64\n",
      " 8   month_sin         321129 non-null  float64\n",
      " 9   month_cos         321129 non-null  float64\n",
      " 10  weekday_sin       321129 non-null  float64\n",
      " 11  weekday_cos       321129 non-null  float64\n",
      " 12  hour_sin          321129 non-null  float64\n",
      " 13  hour_cos          321129 non-null  float64\n",
      "dtypes: float64(11), int64(2), object(1)\n",
      "memory usage: 34.3+ MB\n"
     ]
    }
   ],
   "source": [
    "data.info()"
   ]
  },
  {
   "cell_type": "markdown",
   "id": "066246bb-e05b-4b39-9dd2-173c249b44a7",
   "metadata": {},
   "source": [
    "## Define X and y"
   ]
  },
  {
   "cell_type": "code",
   "execution_count": 10,
   "id": "71cce836-11a6-4211-b5e1-d016f6585280",
   "metadata": {},
   "outputs": [],
   "source": [
    "y = data['count']\n",
    "X = data.drop('count', axis=1)"
   ]
  },
  {
   "cell_type": "markdown",
   "id": "1a350ee7-ef26-4357-9161-9ad8dbbd33aa",
   "metadata": {},
   "source": [
    "## Test and Train split"
   ]
  },
  {
   "cell_type": "code",
   "execution_count": 11,
   "id": "f8bb29e6-1993-46df-a9e8-2f880b7ae0cd",
   "metadata": {},
   "outputs": [],
   "source": [
    "from sklearn.model_selection import train_test_split\n",
    "\n",
    "X_train, X_test, y_train, y_test = train_test_split(X, y, test_size=0.3, random_state=31)"
   ]
  },
  {
   "cell_type": "code",
   "execution_count": 17,
   "id": "ef0c6fec-19f6-4cbc-add7-379ad409fdf7",
   "metadata": {},
   "outputs": [],
   "source": [
    "#get num and cat columns\n",
    "\n",
    "X_train_cat = X_train.select_dtypes('object')\n",
    "X_train_num = X_train.select_dtypes(np.number)\n",
    "\n",
    "X_test_cat = X_test.select_dtypes('object')\n",
    "X_test_num = X_test.select_dtypes(np.number)"
   ]
  },
  {
   "cell_type": "markdown",
   "id": "7c338517-019f-43bc-9821-1c921660c743",
   "metadata": {},
   "source": [
    "## Encode Categorical column"
   ]
  },
  {
   "cell_type": "code",
   "execution_count": 15,
   "id": "bd383b3b-fbf9-401a-b09a-e75e7202c9b7",
   "metadata": {},
   "outputs": [],
   "source": [
    "with open(config['encoders']['encoder'], \"rb\") as file:\n",
    "    encoder = pickle.load(file)"
   ]
  },
  {
   "cell_type": "code",
   "execution_count": 18,
   "id": "56425d30-505c-40c1-a93a-cb06ae3ac9f0",
   "metadata": {},
   "outputs": [],
   "source": [
    "#transform\n",
    "X_train_cat_encoded_np = encoder.transform(X_train_cat).toarray()\n",
    "X_test_cat_encoded_np = encoder.transform(X_test_cat).toarray()\n",
    "\n",
    "X_train_cat_encoded_df = pd.DataFrame(X_train_cat_encoded_np, columns=encoder.get_feature_names_out(), index=X_train_cat.index)\n",
    "X_test_cat_encoded_df = pd.DataFrame(X_test_cat_encoded_np,  columns=encoder.get_feature_names_out(), index=X_test_cat.index)"
   ]
  },
  {
   "cell_type": "markdown",
   "id": "759c6121-0502-4702-8c1a-9322ba663642",
   "metadata": {},
   "source": [
    "## Scale Numeric columns\n",
    "for KNN"
   ]
  },
  {
   "cell_type": "code",
   "execution_count": 22,
   "id": "57d35006-14f5-4529-8c06-f3936f457780",
   "metadata": {},
   "outputs": [],
   "source": [
    "### StandardScaler ###\n",
    "from sklearn.preprocessing import StandardScaler\n",
    "\n",
    "#fit\n",
    "scaler = StandardScaler().fit(X_train_num)\n",
    "\n",
    "relative_path_to_file = \"../scalers/\"\n",
    "file_name = \"scaler.pkl\"\n",
    "with open(relative_path_to_file + file_name, \"wb\") as file:\n",
    "    pickle.dump(scaler, file)\n"
   ]
  },
  {
   "cell_type": "code",
   "execution_count": 23,
   "id": "ed4e5712-0bdc-4d3b-837b-64d7f14355dd",
   "metadata": {},
   "outputs": [],
   "source": [
    "#transform\n",
    "X_train_num_scaled = scaler.transform(X_train_num)\n",
    "X_test_num_scaled = scaler.transform(X_test_num)\n",
    "\n",
    "X_train_num_scaled_df = pd.DataFrame(X_train_num_scaled, columns=X_train_num.columns, index=X_train_num.index)\n",
    "X_test_num_scaled_df = pd.DataFrame(X_test_num_scaled, columns = X_test_num.columns, index=X_test_num.index)"
   ]
  },
  {
   "cell_type": "markdown",
   "id": "f1eaddc9-cbc7-404b-a6fe-cf55ce998fcd",
   "metadata": {},
   "source": [
    "## Concat for KNN"
   ]
  },
  {
   "cell_type": "code",
   "execution_count": 24,
   "id": "9e9a9162-ed82-4429-b1f8-0d47f0079210",
   "metadata": {},
   "outputs": [],
   "source": [
    "X_train_new_knn = pd.concat([X_train_cat_encoded_df, X_train_num_scaled_df], axis=1)\n",
    "X_test_new_knn = pd.concat([X_test_cat_encoded_df, X_test_num_scaled_df], axis=1)"
   ]
  },
  {
   "cell_type": "markdown",
   "id": "03d0d1ca-f112-4871-91dc-f96022c4ee99",
   "metadata": {},
   "source": [
    "## Concat for Tree-based"
   ]
  },
  {
   "cell_type": "code",
   "execution_count": 25,
   "id": "8e20a584-a42c-440b-8143-f2e9d8630d1f",
   "metadata": {},
   "outputs": [],
   "source": [
    "X_train_new_tree = pd.concat([X_train_cat_encoded_df, X_train_num], axis=1)\n",
    "X_test_new_tree = pd.concat([X_test_cat_encoded_df, X_test_num], axis=1)"
   ]
  },
  {
   "cell_type": "markdown",
   "id": "6c7976ba-2378-4c6d-867e-e89291405a8c",
   "metadata": {},
   "source": [
    "# KNN optimization\n",
    "finding optimal parameters with gridsearchcv"
   ]
  },
  {
   "cell_type": "code",
   "execution_count": 28,
   "id": "04a789d9-5eff-430a-97b3-d2535e77116a",
   "metadata": {},
   "outputs": [
    {
     "data": {
      "text/plain": [
       "0.6637226180915506"
      ]
     },
     "execution_count": 28,
     "metadata": {},
     "output_type": "execute_result"
    }
   ],
   "source": [
    "from sklearn.model_selection import GridSearchCV\n",
    "from sklearn.neighbors import KNeighborsRegressor\n",
    "\n",
    "knn = KNeighborsRegressor()\n",
    "\n",
    "param_grid = {'n_neighbors':[3,5,7],\n",
    "            'weights':['uniform', 'distance']}\n",
    "\n",
    "# initialize\n",
    "grid_search = GridSearchCV(knn,param_grid, cv=5, return_train_score=True)\n",
    "\n",
    "\n",
    "# fit\n",
    "grid_search.fit(X_train_new_knn,y_train)\n",
    "grid_search.best_score_"
   ]
  },
  {
   "cell_type": "code",
   "execution_count": 29,
   "id": "c9f1cef3-102f-42c5-b9ba-1558f3c0fa75",
   "metadata": {},
   "outputs": [
    {
     "data": {
      "text/plain": [
       "{'n_neighbors': 7, 'weights': 'uniform'}"
      ]
     },
     "execution_count": 29,
     "metadata": {},
     "output_type": "execute_result"
    }
   ],
   "source": [
    "grid_search.best_params_"
   ]
  },
  {
   "cell_type": "code",
   "execution_count": 31,
   "id": "8ff009e4-ec92-451f-b362-3bc5d6f3d097",
   "metadata": {},
   "outputs": [],
   "source": [
    "#saving knn best params\n",
    "relative_path_to_file = \"../gridsearch/\"\n",
    "file_name = \"knn_gridsearch.pkl\"\n",
    "with open(relative_path_to_file + file_name, \"wb\") as file:\n",
    "    pickle.dump(grid_search, file)"
   ]
  },
  {
   "cell_type": "markdown",
   "id": "f75c0d9b-c15b-4e54-bf69-5bf8f571a34d",
   "metadata": {},
   "source": [
    "# Random Forest optimization"
   ]
  },
  {
   "cell_type": "code",
   "execution_count": 33,
   "id": "d98b02ef-ea85-4d05-b4f5-296a915f4162",
   "metadata": {},
   "outputs": [
    {
     "data": {
      "text/plain": [
       "0.6907056591896203"
      ]
     },
     "execution_count": 33,
     "metadata": {},
     "output_type": "execute_result"
    }
   ],
   "source": [
    "from sklearn.model_selection import GridSearchCV\n",
    "from sklearn.ensemble import RandomForestRegressor\n",
    "\n",
    "rfr = RandomForestRegressor()\n",
    "\n",
    "param_grid = {'min_samples_split':[2,5],\n",
    "                'min_samples_leaf':[1,2,5],\n",
    "                'max_features':[1.0, 'sqrt'],\n",
    "                'random_state': [5]}\n",
    "\n",
    "# initialize\n",
    "grid_search = GridSearchCV(rfr,param_grid, cv=5, return_train_score=True)\n",
    "\n",
    "\n",
    "# fit\n",
    "grid_search.fit(X_train_new_tree,y_train)\n",
    "grid_search.best_score_"
   ]
  },
  {
   "cell_type": "code",
   "execution_count": 34,
   "id": "b80c236a-e306-48db-811b-cce994fabf12",
   "metadata": {},
   "outputs": [
    {
     "data": {
      "text/plain": [
       "{'max_features': 'sqrt',\n",
       " 'min_samples_leaf': 5,\n",
       " 'min_samples_split': 2,\n",
       " 'random_state': 5}"
      ]
     },
     "execution_count": 34,
     "metadata": {},
     "output_type": "execute_result"
    }
   ],
   "source": [
    "grid_search.best_params_"
   ]
  },
  {
   "cell_type": "code",
   "execution_count": null,
   "id": "8a3edef2-d109-4bbc-97ff-d0e42e5bc620",
   "metadata": {},
   "outputs": [],
   "source": []
  }
 ],
 "metadata": {
  "kernelspec": {
   "display_name": "citi_venv",
   "language": "python",
   "name": "citi_venv"
  },
  "language_info": {
   "codemirror_mode": {
    "name": "ipython",
    "version": 3
   },
   "file_extension": ".py",
   "mimetype": "text/x-python",
   "name": "python",
   "nbconvert_exporter": "python",
   "pygments_lexer": "ipython3",
   "version": "3.11.4"
  }
 },
 "nbformat": 4,
 "nbformat_minor": 5
}
