{
 "cells": [
  {
   "cell_type": "markdown",
   "id": "9848a8e5-8f94-4920-aa4f-f5efa5c9aca1",
   "metadata": {},
   "source": [
    "# Data exploration\n",
    "\n",
    "Independent variables are\n",
    "\n",
    "- `start_station_id`\n",
    "- `weekday`\n",
    "- `temperature_f`\n",
    "- `precipitation_in`\n",
    "- `windspeed_mph`\n",
    "- `special_event`\n",
    "\n",
    "These will be used to predict the ride `count`."
   ]
  },
  {
   "cell_type": "code",
   "execution_count": 1,
   "id": "a3533e13-fd47-4fde-b7a9-19379cca2e43",
   "metadata": {},
   "outputs": [],
   "source": [
    "import pandas as pd\n",
    "import yaml\n",
    "import seaborn as sns\n",
    "import matplotlib.pyplot as plt\n",
    "import numpy as np"
   ]
  },
  {
   "cell_type": "code",
   "execution_count": 2,
   "id": "eb59b141-39ee-4a89-9cbd-8b932439302e",
   "metadata": {},
   "outputs": [],
   "source": [
    "try:\n",
    "    with open(\"../config.yaml\", 'r') as file:\n",
    "        config = yaml.safe_load(file)\n",
    "except Exception as e:\n",
    "    print('Error reading config file')"
   ]
  },
  {
   "cell_type": "code",
   "execution_count": 3,
   "id": "f30f098c-b5eb-44ed-a489-5ed3df644634",
   "metadata": {},
   "outputs": [],
   "source": [
    "data = pd.read_csv(config['data']['data_station_weather_clean'],\n",
    "                  dtype={'start_station_id':str})\n",
    "\n",
    "data['started_at_rounded'] = pd.to_datetime(data['started_at_rounded'], format=\"%Y-%m-%dT%H:%M:%S.%f\")#.dt.strftime('%Y-%m-%d %H:%M:%S')"
   ]
  },
  {
   "cell_type": "code",
   "execution_count": 4,
   "id": "5621bf6e-99af-460a-86e0-b352607bd5b3",
   "metadata": {},
   "outputs": [
    {
     "data": {
      "text/html": [
       "<div>\n",
       "<style scoped>\n",
       "    .dataframe tbody tr th:only-of-type {\n",
       "        vertical-align: middle;\n",
       "    }\n",
       "\n",
       "    .dataframe tbody tr th {\n",
       "        vertical-align: top;\n",
       "    }\n",
       "\n",
       "    .dataframe thead th {\n",
       "        text-align: right;\n",
       "    }\n",
       "</style>\n",
       "<table border=\"1\" class=\"dataframe\">\n",
       "  <thead>\n",
       "    <tr style=\"text-align: right;\">\n",
       "      <th></th>\n",
       "      <th>started_at_rounded</th>\n",
       "      <th>weekday</th>\n",
       "      <th>start_station_id</th>\n",
       "      <th>count</th>\n",
       "      <th>start_station_name</th>\n",
       "      <th>start_lat</th>\n",
       "      <th>start_lng</th>\n",
       "      <th>temperature_f</th>\n",
       "      <th>precipitation_in</th>\n",
       "      <th>windspeed_mph</th>\n",
       "    </tr>\n",
       "  </thead>\n",
       "  <tbody>\n",
       "    <tr>\n",
       "      <th>0</th>\n",
       "      <td>2021-07-01</td>\n",
       "      <td>4</td>\n",
       "      <td>4993.13</td>\n",
       "      <td>1</td>\n",
       "      <td>Old Slip &amp; South St</td>\n",
       "      <td>40.703367</td>\n",
       "      <td>-74.007868</td>\n",
       "      <td>78.6</td>\n",
       "      <td>0.0</td>\n",
       "      <td>3.2</td>\n",
       "    </tr>\n",
       "    <tr>\n",
       "      <th>1</th>\n",
       "      <td>2021-07-01</td>\n",
       "      <td>4</td>\n",
       "      <td>5065.12</td>\n",
       "      <td>1</td>\n",
       "      <td>William St &amp; Pine St</td>\n",
       "      <td>40.707179</td>\n",
       "      <td>-74.008873</td>\n",
       "      <td>78.6</td>\n",
       "      <td>0.0</td>\n",
       "      <td>3.2</td>\n",
       "    </tr>\n",
       "    <tr>\n",
       "      <th>2</th>\n",
       "      <td>2021-07-01</td>\n",
       "      <td>4</td>\n",
       "      <td>5114.06</td>\n",
       "      <td>1</td>\n",
       "      <td>West Thames St</td>\n",
       "      <td>40.708347</td>\n",
       "      <td>-74.017134</td>\n",
       "      <td>78.6</td>\n",
       "      <td>0.0</td>\n",
       "      <td>3.2</td>\n",
       "    </tr>\n",
       "    <tr>\n",
       "      <th>3</th>\n",
       "      <td>2021-07-01</td>\n",
       "      <td>4</td>\n",
       "      <td>5137.11</td>\n",
       "      <td>1</td>\n",
       "      <td>Fulton St &amp; William St</td>\n",
       "      <td>40.709601</td>\n",
       "      <td>-74.006551</td>\n",
       "      <td>78.6</td>\n",
       "      <td>0.0</td>\n",
       "      <td>3.2</td>\n",
       "    </tr>\n",
       "    <tr>\n",
       "      <th>4</th>\n",
       "      <td>2021-07-01</td>\n",
       "      <td>4</td>\n",
       "      <td>5137.13</td>\n",
       "      <td>1</td>\n",
       "      <td>Spruce St &amp; Gold St</td>\n",
       "      <td>40.710323</td>\n",
       "      <td>-74.004323</td>\n",
       "      <td>78.6</td>\n",
       "      <td>0.0</td>\n",
       "      <td>3.2</td>\n",
       "    </tr>\n",
       "  </tbody>\n",
       "</table>\n",
       "</div>"
      ],
      "text/plain": [
       "  started_at_rounded  weekday start_station_id  count      start_station_name  \\\n",
       "0         2021-07-01        4          4993.13      1     Old Slip & South St   \n",
       "1         2021-07-01        4          5065.12      1    William St & Pine St   \n",
       "2         2021-07-01        4          5114.06      1          West Thames St   \n",
       "3         2021-07-01        4          5137.11      1  Fulton St & William St   \n",
       "4         2021-07-01        4          5137.13      1     Spruce St & Gold St   \n",
       "\n",
       "   start_lat  start_lng  temperature_f  precipitation_in  windspeed_mph  \n",
       "0  40.703367 -74.007868           78.6               0.0            3.2  \n",
       "1  40.707179 -74.008873           78.6               0.0            3.2  \n",
       "2  40.708347 -74.017134           78.6               0.0            3.2  \n",
       "3  40.709601 -74.006551           78.6               0.0            3.2  \n",
       "4  40.710323 -74.004323           78.6               0.0            3.2  "
      ]
     },
     "execution_count": 4,
     "metadata": {},
     "output_type": "execute_result"
    }
   ],
   "source": [
    "data.head()"
   ]
  },
  {
   "cell_type": "code",
   "execution_count": 5,
   "id": "8776e2d4-8ccc-4153-8a65-4755efc93a5a",
   "metadata": {},
   "outputs": [
    {
     "data": {
      "text/html": [
       "<div>\n",
       "<style scoped>\n",
       "    .dataframe tbody tr th:only-of-type {\n",
       "        vertical-align: middle;\n",
       "    }\n",
       "\n",
       "    .dataframe tbody tr th {\n",
       "        vertical-align: top;\n",
       "    }\n",
       "\n",
       "    .dataframe thead th {\n",
       "        text-align: right;\n",
       "    }\n",
       "</style>\n",
       "<table border=\"1\" class=\"dataframe\">\n",
       "  <thead>\n",
       "    <tr style=\"text-align: right;\">\n",
       "      <th></th>\n",
       "      <th>started_at_rounded</th>\n",
       "      <th>weekday</th>\n",
       "      <th>count</th>\n",
       "      <th>start_lat</th>\n",
       "      <th>start_lng</th>\n",
       "      <th>temperature_f</th>\n",
       "      <th>precipitation_in</th>\n",
       "      <th>windspeed_mph</th>\n",
       "    </tr>\n",
       "  </thead>\n",
       "  <tbody>\n",
       "    <tr>\n",
       "      <th>count</th>\n",
       "      <td>321129</td>\n",
       "      <td>321129.000000</td>\n",
       "      <td>321129.000000</td>\n",
       "      <td>321129.000000</td>\n",
       "      <td>321129.000000</td>\n",
       "      <td>321129.000000</td>\n",
       "      <td>321129.000000</td>\n",
       "      <td>321129.000000</td>\n",
       "    </tr>\n",
       "    <tr>\n",
       "      <th>mean</th>\n",
       "      <td>2022-07-15 18:57:52.223312384</td>\n",
       "      <td>3.959172</td>\n",
       "      <td>5.984894</td>\n",
       "      <td>40.708879</td>\n",
       "      <td>-74.010485</td>\n",
       "      <td>58.158136</td>\n",
       "      <td>0.003621</td>\n",
       "      <td>6.925111</td>\n",
       "    </tr>\n",
       "    <tr>\n",
       "      <th>min</th>\n",
       "      <td>2021-07-01 00:00:00</td>\n",
       "      <td>1.000000</td>\n",
       "      <td>1.000000</td>\n",
       "      <td>40.701221</td>\n",
       "      <td>-74.017134</td>\n",
       "      <td>2.700000</td>\n",
       "      <td>0.000000</td>\n",
       "      <td>0.000000</td>\n",
       "    </tr>\n",
       "    <tr>\n",
       "      <th>25%</th>\n",
       "      <td>2022-01-16 17:00:00</td>\n",
       "      <td>2.000000</td>\n",
       "      <td>2.000000</td>\n",
       "      <td>40.705693</td>\n",
       "      <td>-74.013133</td>\n",
       "      <td>44.800000</td>\n",
       "      <td>0.000000</td>\n",
       "      <td>4.500000</td>\n",
       "    </tr>\n",
       "    <tr>\n",
       "      <th>50%</th>\n",
       "      <td>2022-07-25 23:00:00</td>\n",
       "      <td>4.000000</td>\n",
       "      <td>4.000000</td>\n",
       "      <td>40.708533</td>\n",
       "      <td>-74.010202</td>\n",
       "      <td>59.400000</td>\n",
       "      <td>0.000000</td>\n",
       "      <td>6.400000</td>\n",
       "    </tr>\n",
       "    <tr>\n",
       "      <th>75%</th>\n",
       "      <td>2023-01-13 21:00:00</td>\n",
       "      <td>6.000000</td>\n",
       "      <td>8.000000</td>\n",
       "      <td>40.712455</td>\n",
       "      <td>-74.007868</td>\n",
       "      <td>71.600000</td>\n",
       "      <td>0.000000</td>\n",
       "      <td>8.900000</td>\n",
       "    </tr>\n",
       "    <tr>\n",
       "      <th>max</th>\n",
       "      <td>2023-06-30 23:00:00</td>\n",
       "      <td>7.000000</td>\n",
       "      <td>134.000000</td>\n",
       "      <td>40.715338</td>\n",
       "      <td>-74.001261</td>\n",
       "      <td>96.900000</td>\n",
       "      <td>0.429000</td>\n",
       "      <td>23.400000</td>\n",
       "    </tr>\n",
       "    <tr>\n",
       "      <th>std</th>\n",
       "      <td>NaN</td>\n",
       "      <td>1.964621</td>\n",
       "      <td>6.395749</td>\n",
       "      <td>0.004058</td>\n",
       "      <td>0.003844</td>\n",
       "      <td>16.500064</td>\n",
       "      <td>0.016655</td>\n",
       "      <td>3.417382</td>\n",
       "    </tr>\n",
       "  </tbody>\n",
       "</table>\n",
       "</div>"
      ],
      "text/plain": [
       "                  started_at_rounded        weekday          count  \\\n",
       "count                         321129  321129.000000  321129.000000   \n",
       "mean   2022-07-15 18:57:52.223312384       3.959172       5.984894   \n",
       "min              2021-07-01 00:00:00       1.000000       1.000000   \n",
       "25%              2022-01-16 17:00:00       2.000000       2.000000   \n",
       "50%              2022-07-25 23:00:00       4.000000       4.000000   \n",
       "75%              2023-01-13 21:00:00       6.000000       8.000000   \n",
       "max              2023-06-30 23:00:00       7.000000     134.000000   \n",
       "std                              NaN       1.964621       6.395749   \n",
       "\n",
       "           start_lat      start_lng  temperature_f  precipitation_in  \\\n",
       "count  321129.000000  321129.000000  321129.000000     321129.000000   \n",
       "mean       40.708879     -74.010485      58.158136          0.003621   \n",
       "min        40.701221     -74.017134       2.700000          0.000000   \n",
       "25%        40.705693     -74.013133      44.800000          0.000000   \n",
       "50%        40.708533     -74.010202      59.400000          0.000000   \n",
       "75%        40.712455     -74.007868      71.600000          0.000000   \n",
       "max        40.715338     -74.001261      96.900000          0.429000   \n",
       "std         0.004058       0.003844      16.500064          0.016655   \n",
       "\n",
       "       windspeed_mph  \n",
       "count  321129.000000  \n",
       "mean        6.925111  \n",
       "min         0.000000  \n",
       "25%         4.500000  \n",
       "50%         6.400000  \n",
       "75%         8.900000  \n",
       "max        23.400000  \n",
       "std         3.417382  "
      ]
     },
     "execution_count": 5,
     "metadata": {},
     "output_type": "execute_result"
    }
   ],
   "source": [
    "data.describe()"
   ]
  },
  {
   "cell_type": "markdown",
   "id": "12605f8b-b9d9-4bac-981b-89c64f1146ad",
   "metadata": {},
   "source": [
    "The `count` column has some interesting data - a station with 134 ride starts in an hour.\n",
    "\n",
    "The features will need to be scaled to normalize the range."
   ]
  },
  {
   "cell_type": "markdown",
   "id": "c1edf1c1-7b68-46d9-8307-c287bb8d651c",
   "metadata": {},
   "source": [
    "## Outliers\n",
    "\n",
    "Checking for outliers in the `count` column which contains the number of rides per hour from a station."
   ]
  },
  {
   "cell_type": "code",
   "execution_count": 6,
   "id": "bc9ac286-f2c2-4751-bd18-ec53cf43fbf0",
   "metadata": {},
   "outputs": [
    {
     "name": "stderr",
     "output_type": "stream",
     "text": [
      "/Users/deborahhaar/Desktop/ironhack-work/citi_bikes/citi_venv/lib/python3.11/site-packages/seaborn/axisgrid.py:118: UserWarning: The figure layout has changed to tight\n",
      "  self._figure.tight_layout(*args, **kwargs)\n"
     ]
    },
    {
     "data": {
      "image/png": "[encoded data removed]",
      "text/plain": [
       "<Figure size 1200x500 with 1 Axes>"
      ]
     },
     "metadata": {},
     "output_type": "display_data"
    }
   ],
   "source": [
    "sns.displot(data=data, x='count', kde=True).fig.set_figwidth(12)\n",
    "plt.show()"
   ]
  },
  {
   "cell_type": "markdown",
   "id": "076a75be-31ce-4fc9-a774-8e310d4ed03d",
   "metadata": {},
   "source": [
    "`count` is right skewed."
   ]
  },
  {
   "cell_type": "code",
   "execution_count": 7,
   "id": "a4aa1a87-e8cd-4993-839f-4c2882ad89be",
   "metadata": {},
   "outputs": [
    {
     "data": {
      "image/png": "[encoded data removed]",
      "text/plain": [
       "<Figure size 640x480 with 1 Axes>"
      ]
     },
     "metadata": {},
     "output_type": "display_data"
    }
   ],
   "source": [
    "sns.boxplot(data=data, x='count')\n",
    "plt.show()"
   ]
  },
  {
   "cell_type": "code",
   "execution_count": 8,
   "id": "63bf7ef8-0584-462f-8e41-7aa813fbab7c",
   "metadata": {},
   "outputs": [
    {
     "name": "stdout",
     "output_type": "stream",
     "text": [
      "upper whisker: 17.0\n",
      "lower whisker: -7.0\n"
     ]
    }
   ],
   "source": [
    "#checking out the whiskers\n",
    "iqr = np.percentile(data['count'],75) - np.percentile(data['count'],25)\n",
    "upper_whisker = np.percentile(data['count'],75) + 1.5*iqr\n",
    "lower_whisker = np.percentile(data['count'],25) - 1.5*iqr\n",
    "\n",
    "print('upper whisker: {}'.format(upper_whisker))\n",
    "print('lower whisker: {}'.format(lower_whisker))"
   ]
  },
  {
   "cell_type": "code",
   "execution_count": 9,
   "id": "75d919b2-fdeb-4910-94dc-e847386c19c1",
   "metadata": {},
   "outputs": [
    {
     "data": {
      "text/html": [
       "<div>\n",
       "<style scoped>\n",
       "    .dataframe tbody tr th:only-of-type {\n",
       "        vertical-align: middle;\n",
       "    }\n",
       "\n",
       "    .dataframe tbody tr th {\n",
       "        vertical-align: top;\n",
       "    }\n",
       "\n",
       "    .dataframe thead th {\n",
       "        text-align: right;\n",
       "    }\n",
       "</style>\n",
       "<table border=\"1\" class=\"dataframe\">\n",
       "  <thead>\n",
       "    <tr style=\"text-align: right;\">\n",
       "      <th></th>\n",
       "      <th>started_at_rounded</th>\n",
       "      <th>weekday</th>\n",
       "      <th>start_station_id</th>\n",
       "      <th>count</th>\n",
       "      <th>start_station_name</th>\n",
       "      <th>start_lat</th>\n",
       "      <th>start_lng</th>\n",
       "      <th>temperature_f</th>\n",
       "      <th>precipitation_in</th>\n",
       "      <th>windspeed_mph</th>\n",
       "    </tr>\n",
       "  </thead>\n",
       "  <tbody>\n",
       "    <tr>\n",
       "      <th>166661</th>\n",
       "      <td>2022-08-06 12:00:00</td>\n",
       "      <td>6</td>\n",
       "      <td>5207.01</td>\n",
       "      <td>99</td>\n",
       "      <td>Centre St &amp; Chambers St</td>\n",
       "      <td>40.712785</td>\n",
       "      <td>-74.004562</td>\n",
       "      <td>86.2</td>\n",
       "      <td>0.004</td>\n",
       "      <td>9.4</td>\n",
       "    </tr>\n",
       "    <tr>\n",
       "      <th>170245</th>\n",
       "      <td>2022-08-13 11:00:00</td>\n",
       "      <td>6</td>\n",
       "      <td>5207.01</td>\n",
       "      <td>134</td>\n",
       "      <td>Centre St &amp; Chambers St</td>\n",
       "      <td>40.712785</td>\n",
       "      <td>-74.004562</td>\n",
       "      <td>74.6</td>\n",
       "      <td>0.000</td>\n",
       "      <td>7.2</td>\n",
       "    </tr>\n",
       "    <tr>\n",
       "      <th>173912</th>\n",
       "      <td>2022-08-20 11:00:00</td>\n",
       "      <td>6</td>\n",
       "      <td>5207.01</td>\n",
       "      <td>131</td>\n",
       "      <td>Centre St &amp; Chambers St</td>\n",
       "      <td>40.712785</td>\n",
       "      <td>-74.004562</td>\n",
       "      <td>84.5</td>\n",
       "      <td>0.000</td>\n",
       "      <td>3.4</td>\n",
       "    </tr>\n",
       "    <tr>\n",
       "      <th>173938</th>\n",
       "      <td>2022-08-20 12:00:00</td>\n",
       "      <td>6</td>\n",
       "      <td>5207.01</td>\n",
       "      <td>131</td>\n",
       "      <td>Centre St &amp; Chambers St</td>\n",
       "      <td>40.712785</td>\n",
       "      <td>-74.004562</td>\n",
       "      <td>86.0</td>\n",
       "      <td>0.000</td>\n",
       "      <td>4.9</td>\n",
       "    </tr>\n",
       "  </tbody>\n",
       "</table>\n",
       "</div>"
      ],
      "text/plain": [
       "        started_at_rounded  weekday start_station_id  count  \\\n",
       "166661 2022-08-06 12:00:00        6          5207.01     99   \n",
       "170245 2022-08-13 11:00:00        6          5207.01    134   \n",
       "173912 2022-08-20 11:00:00        6          5207.01    131   \n",
       "173938 2022-08-20 12:00:00        6          5207.01    131   \n",
       "\n",
       "             start_station_name  start_lat  start_lng  temperature_f  \\\n",
       "166661  Centre St & Chambers St  40.712785 -74.004562           86.2   \n",
       "170245  Centre St & Chambers St  40.712785 -74.004562           74.6   \n",
       "173912  Centre St & Chambers St  40.712785 -74.004562           84.5   \n",
       "173938  Centre St & Chambers St  40.712785 -74.004562           86.0   \n",
       "\n",
       "        precipitation_in  windspeed_mph  \n",
       "166661             0.004            9.4  \n",
       "170245             0.000            7.2  \n",
       "173912             0.000            3.4  \n",
       "173938             0.000            4.9  "
      ]
     },
     "execution_count": 9,
     "metadata": {},
     "output_type": "execute_result"
    }
   ],
   "source": [
    "data[data['count'] > 90]"
   ]
  },
  {
   "cell_type": "markdown",
   "id": "51470162-0ef9-4ca7-b9ea-226ad81d0873",
   "metadata": {},
   "source": [
    "After further investigation, the extreme outliers above are likely due to a special event that took place the Saturdays between August 6, 2022 and August 20, 2022, called [Summer Streets](https://www.nycgovparks.org/events/2022/08/20/summer-streets-2022). \n",
    "\n",
    "To deal with these outliers and the others, an additional column `special_events` will be added with a 1, non-outliers will be labled 0."
   ]
  },
  {
   "cell_type": "code",
   "execution_count": 15,
   "id": "83777a9b-b940-4e2e-98c2-dcbfdd66e369",
   "metadata": {},
   "outputs": [],
   "source": [
    "data['special_event'] = list(map(lambda x: 1 if x >17 else 0, data['count']))"
   ]
  },
  {
   "cell_type": "markdown",
   "id": "7dc3842f-cfd8-4eee-97da-cada38b5d431",
   "metadata": {},
   "source": [
    "### Check if log(count) fixes the distribution"
   ]
  },
  {
   "cell_type": "markdown",
   "id": "cd7e9c67-88de-4376-9cad-e422c74a78c3",
   "metadata": {},
   "source": [
    "## Weekdays\n",
    "\n",
    "Does the day of the week matter to the count?"
   ]
  },
  {
   "cell_type": "code",
   "execution_count": 17,
   "id": "449bdd67-0034-4844-95ff-a73451395a9b",
   "metadata": {},
   "outputs": [
    {
     "data": {
      "image/png": "[encoded data removed]",
      "text/plain": [
       "<Figure size 640x480 with 1 Axes>"
      ]
     },
     "metadata": {},
     "output_type": "display_data"
    }
   ],
   "source": [
    "sns.barplot(data, x='weekday', y='count', estimator=np.median)\n",
    "plt.show()"
   ]
  },
  {
   "cell_type": "markdown",
   "id": "2fa99109-906a-4e43-8789-ce0aea056b7c",
   "metadata": {},
   "source": [
    "Considering just weekday vs weekend (rather than each day of the week)"
   ]
  },
  {
   "cell_type": "code",
   "execution_count": 18,
   "id": "b710a888-5495-4b24-8c41-8cf9e5ca0ba9",
   "metadata": {},
   "outputs": [],
   "source": [
    "data_weekday = data.copy()\n",
    "data_weekday['weekday_binary'] = list(map(lambda x: 1 if x < 6 else 0, data['weekday']))"
   ]
  },
  {
   "cell_type": "code",
   "execution_count": 19,
   "id": "6ae6aaa2-f369-4046-9ecf-0ae39bd629f8",
   "metadata": {},
   "outputs": [
    {
     "data": {
      "text/html": [
       "<div>\n",
       "<style scoped>\n",
       "    .dataframe tbody tr th:only-of-type {\n",
       "        vertical-align: middle;\n",
       "    }\n",
       "\n",
       "    .dataframe tbody tr th {\n",
       "        vertical-align: top;\n",
       "    }\n",
       "\n",
       "    .dataframe thead th {\n",
       "        text-align: right;\n",
       "    }\n",
       "</style>\n",
       "<table border=\"1\" class=\"dataframe\">\n",
       "  <thead>\n",
       "    <tr style=\"text-align: right;\">\n",
       "      <th></th>\n",
       "      <th>started_at_rounded</th>\n",
       "      <th>weekday</th>\n",
       "      <th>start_station_id</th>\n",
       "      <th>count</th>\n",
       "      <th>start_station_name</th>\n",
       "      <th>start_lat</th>\n",
       "      <th>start_lng</th>\n",
       "      <th>temperature_f</th>\n",
       "      <th>precipitation_in</th>\n",
       "      <th>windspeed_mph</th>\n",
       "      <th>special_event</th>\n",
       "      <th>weekday_binary</th>\n",
       "    </tr>\n",
       "  </thead>\n",
       "  <tbody>\n",
       "    <tr>\n",
       "      <th>0</th>\n",
       "      <td>2021-07-01</td>\n",
       "      <td>4</td>\n",
       "      <td>4993.13</td>\n",
       "      <td>1</td>\n",
       "      <td>Old Slip &amp; South St</td>\n",
       "      <td>40.703367</td>\n",
       "      <td>-74.007868</td>\n",
       "      <td>78.6</td>\n",
       "      <td>0.0</td>\n",
       "      <td>3.2</td>\n",
       "      <td>0</td>\n",
       "      <td>1</td>\n",
       "    </tr>\n",
       "    <tr>\n",
       "      <th>1</th>\n",
       "      <td>2021-07-01</td>\n",
       "      <td>4</td>\n",
       "      <td>5065.12</td>\n",
       "      <td>1</td>\n",
       "      <td>William St &amp; Pine St</td>\n",
       "      <td>40.707179</td>\n",
       "      <td>-74.008873</td>\n",
       "      <td>78.6</td>\n",
       "      <td>0.0</td>\n",
       "      <td>3.2</td>\n",
       "      <td>0</td>\n",
       "      <td>1</td>\n",
       "    </tr>\n",
       "    <tr>\n",
       "      <th>2</th>\n",
       "      <td>2021-07-01</td>\n",
       "      <td>4</td>\n",
       "      <td>5114.06</td>\n",
       "      <td>1</td>\n",
       "      <td>West Thames St</td>\n",
       "      <td>40.708347</td>\n",
       "      <td>-74.017134</td>\n",
       "      <td>78.6</td>\n",
       "      <td>0.0</td>\n",
       "      <td>3.2</td>\n",
       "      <td>0</td>\n",
       "      <td>1</td>\n",
       "    </tr>\n",
       "    <tr>\n",
       "      <th>3</th>\n",
       "      <td>2021-07-01</td>\n",
       "      <td>4</td>\n",
       "      <td>5137.11</td>\n",
       "      <td>1</td>\n",
       "      <td>Fulton St &amp; William St</td>\n",
       "      <td>40.709601</td>\n",
       "      <td>-74.006551</td>\n",
       "      <td>78.6</td>\n",
       "      <td>0.0</td>\n",
       "      <td>3.2</td>\n",
       "      <td>0</td>\n",
       "      <td>1</td>\n",
       "    </tr>\n",
       "    <tr>\n",
       "      <th>4</th>\n",
       "      <td>2021-07-01</td>\n",
       "      <td>4</td>\n",
       "      <td>5137.13</td>\n",
       "      <td>1</td>\n",
       "      <td>Spruce St &amp; Gold St</td>\n",
       "      <td>40.710323</td>\n",
       "      <td>-74.004323</td>\n",
       "      <td>78.6</td>\n",
       "      <td>0.0</td>\n",
       "      <td>3.2</td>\n",
       "      <td>0</td>\n",
       "      <td>1</td>\n",
       "    </tr>\n",
       "  </tbody>\n",
       "</table>\n",
       "</div>"
      ],
      "text/plain": [
       "  started_at_rounded  weekday start_station_id  count      start_station_name  \\\n",
       "0         2021-07-01        4          4993.13      1     Old Slip & South St   \n",
       "1         2021-07-01        4          5065.12      1    William St & Pine St   \n",
       "2         2021-07-01        4          5114.06      1          West Thames St   \n",
       "3         2021-07-01        4          5137.11      1  Fulton St & William St   \n",
       "4         2021-07-01        4          5137.13      1     Spruce St & Gold St   \n",
       "\n",
       "   start_lat  start_lng  temperature_f  precipitation_in  windspeed_mph  \\\n",
       "0  40.703367 -74.007868           78.6               0.0            3.2   \n",
       "1  40.707179 -74.008873           78.6               0.0            3.2   \n",
       "2  40.708347 -74.017134           78.6               0.0            3.2   \n",
       "3  40.709601 -74.006551           78.6               0.0            3.2   \n",
       "4  40.710323 -74.004323           78.6               0.0            3.2   \n",
       "\n",
       "   special_event  weekday_binary  \n",
       "0              0               1  \n",
       "1              0               1  \n",
       "2              0               1  \n",
       "3              0               1  \n",
       "4              0               1  "
      ]
     },
     "execution_count": 19,
     "metadata": {},
     "output_type": "execute_result"
    }
   ],
   "source": [
    "data_weekday.head()"
   ]
  },
  {
   "cell_type": "code",
   "execution_count": 20,
   "id": "97a96cec-6434-4eff-a2b5-1ec6b967a50a",
   "metadata": {},
   "outputs": [
    {
     "data": {
      "image/png": "[encoded data removed]",
      "text/plain": [
       "<Figure size 640x480 with 1 Axes>"
      ]
     },
     "metadata": {},
     "output_type": "display_data"
    }
   ],
   "source": [
    "sns.barplot(data_weekday, x='weekday_binary', y='count', estimator=np.median)\n",
    "plt.show()"
   ]
  },
  {
   "cell_type": "code",
   "execution_count": 21,
   "id": "acb04d72-5699-44f9-bc1d-6f053ac821b3",
   "metadata": {},
   "outputs": [
    {
     "data": {
      "image/png": "[encoded data removed]",
      "text/plain": [
       "<Figure size 640x480 with 2 Axes>"
      ]
     },
     "metadata": {},
     "output_type": "display_data"
    }
   ],
   "source": [
    "corr_matrix =  data_weekday[['count','weekday_binary','temperature_f','precipitation_in','windspeed_mph']].corr()\n",
    "sns.heatmap(corr_matrix, annot=True) # annot = True displays the correlation values, annot=False hides the correlation values\n",
    "plt.show()"
   ]
  },
  {
   "cell_type": "markdown",
   "id": "f9e485de-3067-4654-84e3-02f3783bb672",
   "metadata": {},
   "source": [
    "There's no significant linear correlation between the features, so we will not do linear regression.\n",
    "\n",
    "Both graphs below suggest that weekdays have higher ridership than weekends, but whether the granularity should be day of the week or just weekday or weekend is unclear. We will conduct a one-way ANOVA test and a two-sample TTest to check these assumptions."
   ]
  },
  {
   "cell_type": "markdown",
   "id": "20ec26e2-4e04-4384-9e9d-a2547dc3bb33",
   "metadata": {},
   "source": [
    "### ANOVA test\n",
    "Are the mean rental counts the same for each day of the week?\n",
    "\n",
    "H-null: the mean ride count for each day of the week is the same\n",
    "\n",
    "H-alt: at least one mean ride count for a day of the week is not the same\n",
    "\n",
    "Significance lvel =0.05"
   ]
  },
  {
   "cell_type": "code",
   "execution_count": 24,
   "id": "2ee97192-d518-4032-9aa2-9019ee961706",
   "metadata": {},
   "outputs": [],
   "source": [
    "import scipy.stats as st"
   ]
  },
  {
   "cell_type": "code",
   "execution_count": 25,
   "id": "d0b1154a-a7c5-420b-9553-fe71553361e3",
   "metadata": {},
   "outputs": [
    {
     "data": {
      "text/plain": [
       "F_onewayResult(statistic=45.005421800768524, pvalue=2.2556632017937163e-55)"
      ]
     },
     "execution_count": 25,
     "metadata": {},
     "output_type": "execute_result"
    }
   ],
   "source": [
    "anova_results = st.f_oneway(data[data['weekday'] == 1]['count'],\n",
    "                            data[data['weekday'] == 2]['count'],\n",
    "                            data[data['weekday'] == 3]['count'],\n",
    "                            data[data['weekday'] == 4]['count'],\n",
    "                            data[data['weekday'] == 5]['count'],\n",
    "                            data[data['weekday'] == 6]['count'],\n",
    "                            data[data['weekday'] == 7]['count'])\n",
    "anova_results"
   ]
  },
  {
   "cell_type": "markdown",
   "id": "d840a8bb-f1fc-48a3-886f-6ed961f4bf7b",
   "metadata": {},
   "source": [
    "The pvalue if less than 0.05, so we can reject the H-null. It is not the case that the means are the same for each day of the week."
   ]
  },
  {
   "cell_type": "code",
   "execution_count": 32,
   "id": "87727d84-ce48-46e8-83d4-e09c52f8ddae",
   "metadata": {},
   "outputs": [
    {
     "data": {
      "text/plain": [
       "F_onewayResult(statistic=39.01289226606152, pvalue=1.0532861223034123e-32)"
      ]
     },
     "execution_count": 32,
     "metadata": {},
     "output_type": "execute_result"
    }
   ],
   "source": [
    "anova_results2 = st.f_oneway(data[data['weekday'] == 1]['count'],\n",
    "                            data[data['weekday'] == 2]['count'],\n",
    "                            data[data['weekday'] == 3]['count'],\n",
    "                            data[data['weekday'] == 4]['count'],\n",
    "                            data[data['weekday'] == 5]['count'])\n",
    "anova_results2"
   ]
  },
  {
   "cell_type": "markdown",
   "id": "1a824b90-3573-436e-bb53-28bd6dc26759",
   "metadata": {},
   "source": [
    "### Two sample T-Test (independent)\n",
    "\n",
    "Are the mean rental counts the same for the weekdays and weekend?\n",
    "\n",
    "H-null: the mean ride count is the same for weekdays and weekend\n",
    "\n",
    "H-alt: the mean ride count is not the same for the weekdays and weekends"
   ]
  },
  {
   "cell_type": "code",
   "execution_count": 27,
   "id": "578a2a11-529d-4664-b5ee-f483e7962039",
   "metadata": {},
   "outputs": [],
   "source": [
    "data_ttest = data_weekday[['weekday_binary', 'count']].copy()"
   ]
  },
  {
   "cell_type": "code",
   "execution_count": 30,
   "id": "7914194f-5628-499c-9803-a6a3ed6768e8",
   "metadata": {},
   "outputs": [
    {
     "data": {
      "text/html": [
       "<div>\n",
       "<style scoped>\n",
       "    .dataframe tbody tr th:only-of-type {\n",
       "        vertical-align: middle;\n",
       "    }\n",
       "\n",
       "    .dataframe tbody tr th {\n",
       "        vertical-align: top;\n",
       "    }\n",
       "\n",
       "    .dataframe thead th {\n",
       "        text-align: right;\n",
       "    }\n",
       "</style>\n",
       "<table border=\"1\" class=\"dataframe\">\n",
       "  <thead>\n",
       "    <tr style=\"text-align: right;\">\n",
       "      <th></th>\n",
       "      <th>weekday_binary</th>\n",
       "      <th>count</th>\n",
       "    </tr>\n",
       "  </thead>\n",
       "  <tbody>\n",
       "    <tr>\n",
       "      <th>0</th>\n",
       "      <td>1</td>\n",
       "      <td>1</td>\n",
       "    </tr>\n",
       "    <tr>\n",
       "      <th>1</th>\n",
       "      <td>1</td>\n",
       "      <td>1</td>\n",
       "    </tr>\n",
       "    <tr>\n",
       "      <th>2</th>\n",
       "      <td>1</td>\n",
       "      <td>1</td>\n",
       "    </tr>\n",
       "    <tr>\n",
       "      <th>3</th>\n",
       "      <td>1</td>\n",
       "      <td>1</td>\n",
       "    </tr>\n",
       "    <tr>\n",
       "      <th>4</th>\n",
       "      <td>1</td>\n",
       "      <td>1</td>\n",
       "    </tr>\n",
       "  </tbody>\n",
       "</table>\n",
       "</div>"
      ],
      "text/plain": [
       "   weekday_binary  count\n",
       "0               1      1\n",
       "1               1      1\n",
       "2               1      1\n",
       "3               1      1\n",
       "4               1      1"
      ]
     },
     "execution_count": 30,
     "metadata": {},
     "output_type": "execute_result"
    }
   ],
   "source": [
    "data_ttest.head()"
   ]
  },
  {
   "cell_type": "code",
   "execution_count": 29,
   "id": "8ed29cf8-3e35-4973-927b-8e82c4f1bc89",
   "metadata": {},
   "outputs": [],
   "source": [
    "from scipy.stats import ttest_ind"
   ]
  },
  {
   "cell_type": "code",
   "execution_count": 33,
   "id": "1a3c7d39-7342-4d8b-bdef-2a0465c35f76",
   "metadata": {},
   "outputs": [
    {
     "data": {
      "text/plain": [
       "TtestResult(statistic=4.955464076062335, pvalue=7.219445378437784e-07, df=321127.0)"
      ]
     },
     "execution_count": 33,
     "metadata": {},
     "output_type": "execute_result"
    }
   ],
   "source": [
    "#define samples\n",
    "group1 = data_ttest[data_ttest['weekday_binary']== 1]\n",
    "group2 = data_ttest[data_ttest['weekday_binary']== 0]\n",
    "\n",
    "#perform independent two sample t-test\n",
    "ttest_results = ttest_ind(group1['count'], group2['count'], alternative='two-sided')\n",
    "\n",
    "ttest_results"
   ]
  },
  {
   "cell_type": "markdown",
   "id": "a2ba5f0d-0539-4607-aad0-f7a66b1ac4da",
   "metadata": {},
   "source": [
    "The pvalue is less than 0.05, so we can reject the H-null. The mean ride count is not the same for weekdays and weekends."
   ]
  },
  {
   "cell_type": "markdown",
   "id": "229cf059-1646-423c-97c6-15848b4e7086",
   "metadata": {},
   "source": [
    "The ANOVA looking at just weekdays (M-F) suggest that there are differences between the weekdays and the TTest indicated that there are differences between the means of the weekday and weekend groups. Therefore, we will encode all the days of the week, and not just use a binary split."
   ]
  },
  {
   "cell_type": "code",
   "execution_count": 37,
   "id": "1306d9d9-f022-4505-952b-939dcc6d84a5",
   "metadata": {},
   "outputs": [
    {
     "data": {
      "text/html": [
       "<div>\n",
       "<style scoped>\n",
       "    .dataframe tbody tr th:only-of-type {\n",
       "        vertical-align: middle;\n",
       "    }\n",
       "\n",
       "    .dataframe tbody tr th {\n",
       "        vertical-align: top;\n",
       "    }\n",
       "\n",
       "    .dataframe thead th {\n",
       "        text-align: right;\n",
       "    }\n",
       "</style>\n",
       "<table border=\"1\" class=\"dataframe\">\n",
       "  <thead>\n",
       "    <tr style=\"text-align: right;\">\n",
       "      <th></th>\n",
       "      <th>started_at_rounded</th>\n",
       "      <th>weekday</th>\n",
       "      <th>start_station_id</th>\n",
       "      <th>count</th>\n",
       "      <th>start_station_name</th>\n",
       "      <th>start_lat</th>\n",
       "      <th>start_lng</th>\n",
       "      <th>temperature_f</th>\n",
       "      <th>precipitation_in</th>\n",
       "      <th>windspeed_mph</th>\n",
       "      <th>special_event</th>\n",
       "    </tr>\n",
       "  </thead>\n",
       "  <tbody>\n",
       "    <tr>\n",
       "      <th>0</th>\n",
       "      <td>2021-07-01</td>\n",
       "      <td>4</td>\n",
       "      <td>4993.13</td>\n",
       "      <td>1</td>\n",
       "      <td>Old Slip &amp; South St</td>\n",
       "      <td>40.703367</td>\n",
       "      <td>-74.007868</td>\n",
       "      <td>78.6</td>\n",
       "      <td>0.0</td>\n",
       "      <td>3.2</td>\n",
       "      <td>0</td>\n",
       "    </tr>\n",
       "    <tr>\n",
       "      <th>1</th>\n",
       "      <td>2021-07-01</td>\n",
       "      <td>4</td>\n",
       "      <td>5065.12</td>\n",
       "      <td>1</td>\n",
       "      <td>William St &amp; Pine St</td>\n",
       "      <td>40.707179</td>\n",
       "      <td>-74.008873</td>\n",
       "      <td>78.6</td>\n",
       "      <td>0.0</td>\n",
       "      <td>3.2</td>\n",
       "      <td>0</td>\n",
       "    </tr>\n",
       "    <tr>\n",
       "      <th>2</th>\n",
       "      <td>2021-07-01</td>\n",
       "      <td>4</td>\n",
       "      <td>5114.06</td>\n",
       "      <td>1</td>\n",
       "      <td>West Thames St</td>\n",
       "      <td>40.708347</td>\n",
       "      <td>-74.017134</td>\n",
       "      <td>78.6</td>\n",
       "      <td>0.0</td>\n",
       "      <td>3.2</td>\n",
       "      <td>0</td>\n",
       "    </tr>\n",
       "    <tr>\n",
       "      <th>3</th>\n",
       "      <td>2021-07-01</td>\n",
       "      <td>4</td>\n",
       "      <td>5137.11</td>\n",
       "      <td>1</td>\n",
       "      <td>Fulton St &amp; William St</td>\n",
       "      <td>40.709601</td>\n",
       "      <td>-74.006551</td>\n",
       "      <td>78.6</td>\n",
       "      <td>0.0</td>\n",
       "      <td>3.2</td>\n",
       "      <td>0</td>\n",
       "    </tr>\n",
       "    <tr>\n",
       "      <th>4</th>\n",
       "      <td>2021-07-01</td>\n",
       "      <td>4</td>\n",
       "      <td>5137.13</td>\n",
       "      <td>1</td>\n",
       "      <td>Spruce St &amp; Gold St</td>\n",
       "      <td>40.710323</td>\n",
       "      <td>-74.004323</td>\n",
       "      <td>78.6</td>\n",
       "      <td>0.0</td>\n",
       "      <td>3.2</td>\n",
       "      <td>0</td>\n",
       "    </tr>\n",
       "  </tbody>\n",
       "</table>\n",
       "</div>"
      ],
      "text/plain": [
       "  started_at_rounded  weekday start_station_id  count      start_station_name  \\\n",
       "0         2021-07-01        4          4993.13      1     Old Slip & South St   \n",
       "1         2021-07-01        4          5065.12      1    William St & Pine St   \n",
       "2         2021-07-01        4          5114.06      1          West Thames St   \n",
       "3         2021-07-01        4          5137.11      1  Fulton St & William St   \n",
       "4         2021-07-01        4          5137.13      1     Spruce St & Gold St   \n",
       "\n",
       "   start_lat  start_lng  temperature_f  precipitation_in  windspeed_mph  \\\n",
       "0  40.703367 -74.007868           78.6               0.0            3.2   \n",
       "1  40.707179 -74.008873           78.6               0.0            3.2   \n",
       "2  40.708347 -74.017134           78.6               0.0            3.2   \n",
       "3  40.709601 -74.006551           78.6               0.0            3.2   \n",
       "4  40.710323 -74.004323           78.6               0.0            3.2   \n",
       "\n",
       "   special_event  \n",
       "0              0  \n",
       "1              0  \n",
       "2              0  \n",
       "3              0  \n",
       "4              0  "
      ]
     },
     "execution_count": 37,
     "metadata": {},
     "output_type": "execute_result"
    }
   ],
   "source": [
    "data.head()"
   ]
  },
  {
   "cell_type": "code",
   "execution_count": 38,
   "id": "aedb2839-9e30-47e7-8532-610dc78e4163",
   "metadata": {},
   "outputs": [
    {
     "data": {
      "text/plain": [
       "321129"
      ]
     },
     "execution_count": 38,
     "metadata": {},
     "output_type": "execute_result"
    }
   ],
   "source": [
    "data.shape[0]"
   ]
  },
  {
   "cell_type": "code",
   "execution_count": 39,
   "id": "14b19e0d-25cb-4c30-8b97-cc63b2a68394",
   "metadata": {},
   "outputs": [],
   "source": [
    "data.to_csv('../data/cleaned/data_cleaned_after_exploration.csv', index=False)"
   ]
  },
  {
   "cell_type": "code",
   "execution_count": null,
   "id": "e5c63734-1d58-4a54-ae93-d6ac61d81479",
   "metadata": {},
   "outputs": [],
   "source": []
  }
 ],
 "metadata": {
  "kernelspec": {
   "display_name": "citi_venv",
   "language": "python",
   "name": "citi_venv"
  },
  "language_info": {
   "codemirror_mode": {
    "name": "ipython",
    "version": 3
   },
   "file_extension": ".py",
   "mimetype": "text/x-python",
   "name": "python",
   "nbconvert_exporter": "python",
   "pygments_lexer": "ipython3",
   "version": "3.11.4"
  }
 },
 "nbformat": 4,
 "nbformat_minor": 5
}
