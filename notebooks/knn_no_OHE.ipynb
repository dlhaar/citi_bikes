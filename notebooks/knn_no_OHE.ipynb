{
 "cells": [
  {
   "cell_type": "markdown",
   "id": "4351efd1-d4ad-439d-896d-919dc3f19e97",
   "metadata": {},
   "source": [
    "# Modeling - KNN Regression"
   ]
  },
  {
   "cell_type": "code",
   "execution_count": 2,
   "id": "4226ca54-2618-42d5-87d0-53fd1ae2a32f",
   "metadata": {
    "editable": true,
    "slideshow": {
     "slide_type": ""
    },
    "tags": []
   },
   "outputs": [],
   "source": [
    "import pickle\n",
    "import pandas as pd\n",
    "import numpy as np\n",
    "import yaml"
   ]
  },
  {
   "cell_type": "code",
   "execution_count": 3,
   "id": "bd875ddb-a8ef-40da-956c-ce9e47f3e3f9",
   "metadata": {
    "editable": true,
    "slideshow": {
     "slide_type": ""
    },
    "tags": []
   },
   "outputs": [],
   "source": [
    "try:\n",
    "    with open(\"../config.yaml\", 'r') as file:\n",
    "        config = yaml.safe_load(file)\n",
    "except Exception as e:\n",
    "    print('Error reading config file')"
   ]
  },
  {
   "cell_type": "markdown",
   "id": "d6ccb2a7-c049-4776-91be-4b261f3a0f44",
   "metadata": {
    "editable": true,
    "slideshow": {
     "slide_type": ""
    },
    "tags": []
   },
   "source": [
    "## Datetime info represented cyclically, no OneHotEncoded station ids"
   ]
  },
  {
   "cell_type": "code",
   "execution_count": 4,
   "id": "337ce480-0022-41d5-b617-1bfb4c787275",
   "metadata": {
    "editable": true,
    "slideshow": {
     "slide_type": ""
    },
    "tags": []
   },
   "outputs": [],
   "source": [
    "data_cyc = pd.read_csv(config['data']['data_with_ids_cyc'])"
   ]
  },
  {
   "cell_type": "code",
   "execution_count": 5,
   "id": "ea17886f-fa13-4c3b-b519-fdc60096719d",
   "metadata": {},
   "outputs": [
    {
     "data": {
      "text/html": [
       "<div>\n",
       "<style scoped>\n",
       "    .dataframe tbody tr th:only-of-type {\n",
       "        vertical-align: middle;\n",
       "    }\n",
       "\n",
       "    .dataframe tbody tr th {\n",
       "        vertical-align: top;\n",
       "    }\n",
       "\n",
       "    .dataframe thead th {\n",
       "        text-align: right;\n",
       "    }\n",
       "</style>\n",
       "<table border=\"1\" class=\"dataframe\">\n",
       "  <thead>\n",
       "    <tr style=\"text-align: right;\">\n",
       "      <th></th>\n",
       "      <th>weekday</th>\n",
       "      <th>start_station_id</th>\n",
       "      <th>count</th>\n",
       "      <th>start_station_name</th>\n",
       "      <th>start_lat</th>\n",
       "      <th>start_lng</th>\n",
       "      <th>temperature_f</th>\n",
       "      <th>precipitation_in</th>\n",
       "      <th>windspeed_mph</th>\n",
       "      <th>special_event</th>\n",
       "      <th>week_number_sin</th>\n",
       "      <th>week_number_cos</th>\n",
       "      <th>month_sin</th>\n",
       "      <th>month_cos</th>\n",
       "      <th>weekday_sin</th>\n",
       "      <th>weekday_cos</th>\n",
       "      <th>hour_sin</th>\n",
       "      <th>hour_cos</th>\n",
       "    </tr>\n",
       "  </thead>\n",
       "  <tbody>\n",
       "    <tr>\n",
       "      <th>0</th>\n",
       "      <td>4</td>\n",
       "      <td>4993.13</td>\n",
       "      <td>1</td>\n",
       "      <td>Old Slip &amp; South St</td>\n",
       "      <td>40.703367</td>\n",
       "      <td>-74.007868</td>\n",
       "      <td>78.6</td>\n",
       "      <td>0.0</td>\n",
       "      <td>3.2</td>\n",
       "      <td>0</td>\n",
       "      <td>-3.216245e-16</td>\n",
       "      <td>-1.0</td>\n",
       "      <td>-5.000000e-01</td>\n",
       "      <td>-0.866025</td>\n",
       "      <td>0.433884</td>\n",
       "      <td>0.433884</td>\n",
       "      <td>0.000000</td>\n",
       "      <td>1.000000</td>\n",
       "    </tr>\n",
       "    <tr>\n",
       "      <th>1</th>\n",
       "      <td>4</td>\n",
       "      <td>5065.12</td>\n",
       "      <td>1</td>\n",
       "      <td>William St &amp; Pine St</td>\n",
       "      <td>40.707179</td>\n",
       "      <td>-74.008873</td>\n",
       "      <td>78.6</td>\n",
       "      <td>0.0</td>\n",
       "      <td>3.2</td>\n",
       "      <td>0</td>\n",
       "      <td>-3.216245e-16</td>\n",
       "      <td>-1.0</td>\n",
       "      <td>-5.000000e-01</td>\n",
       "      <td>-0.866025</td>\n",
       "      <td>0.433884</td>\n",
       "      <td>0.433884</td>\n",
       "      <td>0.000000</td>\n",
       "      <td>1.000000</td>\n",
       "    </tr>\n",
       "    <tr>\n",
       "      <th>2</th>\n",
       "      <td>4</td>\n",
       "      <td>5114.06</td>\n",
       "      <td>1</td>\n",
       "      <td>West Thames St</td>\n",
       "      <td>40.708347</td>\n",
       "      <td>-74.017134</td>\n",
       "      <td>78.6</td>\n",
       "      <td>0.0</td>\n",
       "      <td>3.2</td>\n",
       "      <td>0</td>\n",
       "      <td>-3.216245e-16</td>\n",
       "      <td>-1.0</td>\n",
       "      <td>-5.000000e-01</td>\n",
       "      <td>-0.866025</td>\n",
       "      <td>0.433884</td>\n",
       "      <td>0.433884</td>\n",
       "      <td>0.000000</td>\n",
       "      <td>1.000000</td>\n",
       "    </tr>\n",
       "    <tr>\n",
       "      <th>3</th>\n",
       "      <td>4</td>\n",
       "      <td>5137.11</td>\n",
       "      <td>1</td>\n",
       "      <td>Fulton St &amp; William St</td>\n",
       "      <td>40.709601</td>\n",
       "      <td>-74.006551</td>\n",
       "      <td>78.6</td>\n",
       "      <td>0.0</td>\n",
       "      <td>3.2</td>\n",
       "      <td>0</td>\n",
       "      <td>-3.216245e-16</td>\n",
       "      <td>-1.0</td>\n",
       "      <td>-5.000000e-01</td>\n",
       "      <td>-0.866025</td>\n",
       "      <td>0.433884</td>\n",
       "      <td>0.433884</td>\n",
       "      <td>0.000000</td>\n",
       "      <td>1.000000</td>\n",
       "    </tr>\n",
       "    <tr>\n",
       "      <th>4</th>\n",
       "      <td>4</td>\n",
       "      <td>5137.13</td>\n",
       "      <td>1</td>\n",
       "      <td>Spruce St &amp; Gold St</td>\n",
       "      <td>40.710323</td>\n",
       "      <td>-74.004323</td>\n",
       "      <td>78.6</td>\n",
       "      <td>0.0</td>\n",
       "      <td>3.2</td>\n",
       "      <td>0</td>\n",
       "      <td>-3.216245e-16</td>\n",
       "      <td>-1.0</td>\n",
       "      <td>-5.000000e-01</td>\n",
       "      <td>-0.866025</td>\n",
       "      <td>0.433884</td>\n",
       "      <td>0.433884</td>\n",
       "      <td>0.000000</td>\n",
       "      <td>1.000000</td>\n",
       "    </tr>\n",
       "    <tr>\n",
       "      <th>...</th>\n",
       "      <td>...</td>\n",
       "      <td>...</td>\n",
       "      <td>...</td>\n",
       "      <td>...</td>\n",
       "      <td>...</td>\n",
       "      <td>...</td>\n",
       "      <td>...</td>\n",
       "      <td>...</td>\n",
       "      <td>...</td>\n",
       "      <td>...</td>\n",
       "      <td>...</td>\n",
       "      <td>...</td>\n",
       "      <td>...</td>\n",
       "      <td>...</td>\n",
       "      <td>...</td>\n",
       "      <td>...</td>\n",
       "      <td>...</td>\n",
       "      <td>...</td>\n",
       "    </tr>\n",
       "    <tr>\n",
       "      <th>321124</th>\n",
       "      <td>5</td>\n",
       "      <td>5216.06</td>\n",
       "      <td>9</td>\n",
       "      <td>Vesey St &amp; Church St</td>\n",
       "      <td>40.712455</td>\n",
       "      <td>-74.010822</td>\n",
       "      <td>68.8</td>\n",
       "      <td>0.0</td>\n",
       "      <td>4.7</td>\n",
       "      <td>0</td>\n",
       "      <td>-3.216245e-16</td>\n",
       "      <td>-1.0</td>\n",
       "      <td>1.224647e-16</td>\n",
       "      <td>-1.000000</td>\n",
       "      <td>-0.433884</td>\n",
       "      <td>-0.433884</td>\n",
       "      <td>-0.258819</td>\n",
       "      <td>0.965926</td>\n",
       "    </tr>\n",
       "    <tr>\n",
       "      <th>321125</th>\n",
       "      <td>5</td>\n",
       "      <td>5288.08</td>\n",
       "      <td>1</td>\n",
       "      <td>Park Pl &amp; Church St</td>\n",
       "      <td>40.713089</td>\n",
       "      <td>-74.009329</td>\n",
       "      <td>68.8</td>\n",
       "      <td>0.0</td>\n",
       "      <td>4.7</td>\n",
       "      <td>0</td>\n",
       "      <td>-3.216245e-16</td>\n",
       "      <td>-1.0</td>\n",
       "      <td>1.224647e-16</td>\n",
       "      <td>-1.000000</td>\n",
       "      <td>-0.433884</td>\n",
       "      <td>-0.433884</td>\n",
       "      <td>-0.258819</td>\n",
       "      <td>0.965926</td>\n",
       "    </tr>\n",
       "    <tr>\n",
       "      <th>321126</th>\n",
       "      <td>5</td>\n",
       "      <td>5288.09</td>\n",
       "      <td>4</td>\n",
       "      <td>Warren St &amp; W Broadway</td>\n",
       "      <td>40.714740</td>\n",
       "      <td>-74.009106</td>\n",
       "      <td>68.8</td>\n",
       "      <td>0.0</td>\n",
       "      <td>4.7</td>\n",
       "      <td>0</td>\n",
       "      <td>-3.216245e-16</td>\n",
       "      <td>-1.0</td>\n",
       "      <td>1.224647e-16</td>\n",
       "      <td>-1.000000</td>\n",
       "      <td>-0.433884</td>\n",
       "      <td>-0.433884</td>\n",
       "      <td>-0.258819</td>\n",
       "      <td>0.965926</td>\n",
       "    </tr>\n",
       "    <tr>\n",
       "      <th>321127</th>\n",
       "      <td>5</td>\n",
       "      <td>5288.12</td>\n",
       "      <td>1</td>\n",
       "      <td>Murray St &amp; Greenwich St</td>\n",
       "      <td>40.714694</td>\n",
       "      <td>-74.011219</td>\n",
       "      <td>68.8</td>\n",
       "      <td>0.0</td>\n",
       "      <td>4.7</td>\n",
       "      <td>0</td>\n",
       "      <td>-3.216245e-16</td>\n",
       "      <td>-1.0</td>\n",
       "      <td>1.224647e-16</td>\n",
       "      <td>-1.000000</td>\n",
       "      <td>-0.433884</td>\n",
       "      <td>-0.433884</td>\n",
       "      <td>-0.258819</td>\n",
       "      <td>0.965926</td>\n",
       "    </tr>\n",
       "    <tr>\n",
       "      <th>321128</th>\n",
       "      <td>5</td>\n",
       "      <td>5329.08</td>\n",
       "      <td>1</td>\n",
       "      <td>Murray St &amp; West St</td>\n",
       "      <td>40.715030</td>\n",
       "      <td>-74.012460</td>\n",
       "      <td>68.8</td>\n",
       "      <td>0.0</td>\n",
       "      <td>4.7</td>\n",
       "      <td>0</td>\n",
       "      <td>-3.216245e-16</td>\n",
       "      <td>-1.0</td>\n",
       "      <td>1.224647e-16</td>\n",
       "      <td>-1.000000</td>\n",
       "      <td>-0.433884</td>\n",
       "      <td>-0.433884</td>\n",
       "      <td>-0.258819</td>\n",
       "      <td>0.965926</td>\n",
       "    </tr>\n",
       "  </tbody>\n",
       "</table>\n",
       "<p>321129 rows × 18 columns</p>\n",
       "</div>"
      ],
      "text/plain": [
       "        weekday  start_station_id  count        start_station_name  start_lat  \\\n",
       "0             4           4993.13      1       Old Slip & South St  40.703367   \n",
       "1             4           5065.12      1      William St & Pine St  40.707179   \n",
       "2             4           5114.06      1            West Thames St  40.708347   \n",
       "3             4           5137.11      1    Fulton St & William St  40.709601   \n",
       "4             4           5137.13      1       Spruce St & Gold St  40.710323   \n",
       "...         ...               ...    ...                       ...        ...   \n",
       "321124        5           5216.06      9      Vesey St & Church St  40.712455   \n",
       "321125        5           5288.08      1       Park Pl & Church St  40.713089   \n",
       "321126        5           5288.09      4    Warren St & W Broadway  40.714740   \n",
       "321127        5           5288.12      1  Murray St & Greenwich St  40.714694   \n",
       "321128        5           5329.08      1       Murray St & West St  40.715030   \n",
       "\n",
       "        start_lng  temperature_f  precipitation_in  windspeed_mph  \\\n",
       "0      -74.007868           78.6               0.0            3.2   \n",
       "1      -74.008873           78.6               0.0            3.2   \n",
       "2      -74.017134           78.6               0.0            3.2   \n",
       "3      -74.006551           78.6               0.0            3.2   \n",
       "4      -74.004323           78.6               0.0            3.2   \n",
       "...           ...            ...               ...            ...   \n",
       "321124 -74.010822           68.8               0.0            4.7   \n",
       "321125 -74.009329           68.8               0.0            4.7   \n",
       "321126 -74.009106           68.8               0.0            4.7   \n",
       "321127 -74.011219           68.8               0.0            4.7   \n",
       "321128 -74.012460           68.8               0.0            4.7   \n",
       "\n",
       "        special_event  week_number_sin  week_number_cos     month_sin  \\\n",
       "0                   0    -3.216245e-16             -1.0 -5.000000e-01   \n",
       "1                   0    -3.216245e-16             -1.0 -5.000000e-01   \n",
       "2                   0    -3.216245e-16             -1.0 -5.000000e-01   \n",
       "3                   0    -3.216245e-16             -1.0 -5.000000e-01   \n",
       "4                   0    -3.216245e-16             -1.0 -5.000000e-01   \n",
       "...               ...              ...              ...           ...   \n",
       "321124              0    -3.216245e-16             -1.0  1.224647e-16   \n",
       "321125              0    -3.216245e-16             -1.0  1.224647e-16   \n",
       "321126              0    -3.216245e-16             -1.0  1.224647e-16   \n",
       "321127              0    -3.216245e-16             -1.0  1.224647e-16   \n",
       "321128              0    -3.216245e-16             -1.0  1.224647e-16   \n",
       "\n",
       "        month_cos  weekday_sin  weekday_cos  hour_sin  hour_cos  \n",
       "0       -0.866025     0.433884     0.433884  0.000000  1.000000  \n",
       "1       -0.866025     0.433884     0.433884  0.000000  1.000000  \n",
       "2       -0.866025     0.433884     0.433884  0.000000  1.000000  \n",
       "3       -0.866025     0.433884     0.433884  0.000000  1.000000  \n",
       "4       -0.866025     0.433884     0.433884  0.000000  1.000000  \n",
       "...           ...          ...          ...       ...       ...  \n",
       "321124  -1.000000    -0.433884    -0.433884 -0.258819  0.965926  \n",
       "321125  -1.000000    -0.433884    -0.433884 -0.258819  0.965926  \n",
       "321126  -1.000000    -0.433884    -0.433884 -0.258819  0.965926  \n",
       "321127  -1.000000    -0.433884    -0.433884 -0.258819  0.965926  \n",
       "321128  -1.000000    -0.433884    -0.433884 -0.258819  0.965926  \n",
       "\n",
       "[321129 rows x 18 columns]"
      ]
     },
     "execution_count": 5,
     "metadata": {},
     "output_type": "execute_result"
    }
   ],
   "source": [
    "data_cyc"
   ]
  },
  {
   "cell_type": "markdown",
   "id": "fb2057d6-d2fc-4dad-b89a-239b567d5050",
   "metadata": {
    "editable": true,
    "slideshow": {
     "slide_type": ""
    },
    "tags": []
   },
   "source": [
    "### Define X and y"
   ]
  },
  {
   "cell_type": "code",
   "execution_count": 6,
   "id": "04f52558-c543-4164-acd2-6852eac5886a",
   "metadata": {
    "editable": true,
    "slideshow": {
     "slide_type": ""
    },
    "tags": []
   },
   "outputs": [],
   "source": [
    "y = data_cyc['count'].copy()\n",
    "X = data_cyc.drop(['count', 'start_station_name', 'start_lat', 'start_lng', 'weekday'], axis=1).copy()"
   ]
  },
  {
   "cell_type": "code",
   "execution_count": 7,
   "id": "2492e7c0-3648-4418-9db5-cd3e9c2a4399",
   "metadata": {},
   "outputs": [
    {
     "data": {
      "text/html": [
       "<div>\n",
       "<style scoped>\n",
       "    .dataframe tbody tr th:only-of-type {\n",
       "        vertical-align: middle;\n",
       "    }\n",
       "\n",
       "    .dataframe tbody tr th {\n",
       "        vertical-align: top;\n",
       "    }\n",
       "\n",
       "    .dataframe thead th {\n",
       "        text-align: right;\n",
       "    }\n",
       "</style>\n",
       "<table border=\"1\" class=\"dataframe\">\n",
       "  <thead>\n",
       "    <tr style=\"text-align: right;\">\n",
       "      <th></th>\n",
       "      <th>start_station_id</th>\n",
       "      <th>temperature_f</th>\n",
       "      <th>precipitation_in</th>\n",
       "      <th>windspeed_mph</th>\n",
       "      <th>special_event</th>\n",
       "      <th>week_number_sin</th>\n",
       "      <th>week_number_cos</th>\n",
       "      <th>month_sin</th>\n",
       "      <th>month_cos</th>\n",
       "      <th>weekday_sin</th>\n",
       "      <th>weekday_cos</th>\n",
       "      <th>hour_sin</th>\n",
       "      <th>hour_cos</th>\n",
       "    </tr>\n",
       "  </thead>\n",
       "  <tbody>\n",
       "    <tr>\n",
       "      <th>0</th>\n",
       "      <td>4993.13</td>\n",
       "      <td>78.6</td>\n",
       "      <td>0.0</td>\n",
       "      <td>3.2</td>\n",
       "      <td>0</td>\n",
       "      <td>-3.216245e-16</td>\n",
       "      <td>-1.0</td>\n",
       "      <td>-0.5</td>\n",
       "      <td>-0.866025</td>\n",
       "      <td>0.433884</td>\n",
       "      <td>0.433884</td>\n",
       "      <td>0.0</td>\n",
       "      <td>1.0</td>\n",
       "    </tr>\n",
       "    <tr>\n",
       "      <th>1</th>\n",
       "      <td>5065.12</td>\n",
       "      <td>78.6</td>\n",
       "      <td>0.0</td>\n",
       "      <td>3.2</td>\n",
       "      <td>0</td>\n",
       "      <td>-3.216245e-16</td>\n",
       "      <td>-1.0</td>\n",
       "      <td>-0.5</td>\n",
       "      <td>-0.866025</td>\n",
       "      <td>0.433884</td>\n",
       "      <td>0.433884</td>\n",
       "      <td>0.0</td>\n",
       "      <td>1.0</td>\n",
       "    </tr>\n",
       "    <tr>\n",
       "      <th>2</th>\n",
       "      <td>5114.06</td>\n",
       "      <td>78.6</td>\n",
       "      <td>0.0</td>\n",
       "      <td>3.2</td>\n",
       "      <td>0</td>\n",
       "      <td>-3.216245e-16</td>\n",
       "      <td>-1.0</td>\n",
       "      <td>-0.5</td>\n",
       "      <td>-0.866025</td>\n",
       "      <td>0.433884</td>\n",
       "      <td>0.433884</td>\n",
       "      <td>0.0</td>\n",
       "      <td>1.0</td>\n",
       "    </tr>\n",
       "    <tr>\n",
       "      <th>3</th>\n",
       "      <td>5137.11</td>\n",
       "      <td>78.6</td>\n",
       "      <td>0.0</td>\n",
       "      <td>3.2</td>\n",
       "      <td>0</td>\n",
       "      <td>-3.216245e-16</td>\n",
       "      <td>-1.0</td>\n",
       "      <td>-0.5</td>\n",
       "      <td>-0.866025</td>\n",
       "      <td>0.433884</td>\n",
       "      <td>0.433884</td>\n",
       "      <td>0.0</td>\n",
       "      <td>1.0</td>\n",
       "    </tr>\n",
       "    <tr>\n",
       "      <th>4</th>\n",
       "      <td>5137.13</td>\n",
       "      <td>78.6</td>\n",
       "      <td>0.0</td>\n",
       "      <td>3.2</td>\n",
       "      <td>0</td>\n",
       "      <td>-3.216245e-16</td>\n",
       "      <td>-1.0</td>\n",
       "      <td>-0.5</td>\n",
       "      <td>-0.866025</td>\n",
       "      <td>0.433884</td>\n",
       "      <td>0.433884</td>\n",
       "      <td>0.0</td>\n",
       "      <td>1.0</td>\n",
       "    </tr>\n",
       "  </tbody>\n",
       "</table>\n",
       "</div>"
      ],
      "text/plain": [
       "   start_station_id  temperature_f  precipitation_in  windspeed_mph  \\\n",
       "0           4993.13           78.6               0.0            3.2   \n",
       "1           5065.12           78.6               0.0            3.2   \n",
       "2           5114.06           78.6               0.0            3.2   \n",
       "3           5137.11           78.6               0.0            3.2   \n",
       "4           5137.13           78.6               0.0            3.2   \n",
       "\n",
       "   special_event  week_number_sin  week_number_cos  month_sin  month_cos  \\\n",
       "0              0    -3.216245e-16             -1.0       -0.5  -0.866025   \n",
       "1              0    -3.216245e-16             -1.0       -0.5  -0.866025   \n",
       "2              0    -3.216245e-16             -1.0       -0.5  -0.866025   \n",
       "3              0    -3.216245e-16             -1.0       -0.5  -0.866025   \n",
       "4              0    -3.216245e-16             -1.0       -0.5  -0.866025   \n",
       "\n",
       "   weekday_sin  weekday_cos  hour_sin  hour_cos  \n",
       "0     0.433884     0.433884       0.0       1.0  \n",
       "1     0.433884     0.433884       0.0       1.0  \n",
       "2     0.433884     0.433884       0.0       1.0  \n",
       "3     0.433884     0.433884       0.0       1.0  \n",
       "4     0.433884     0.433884       0.0       1.0  "
      ]
     },
     "execution_count": 7,
     "metadata": {},
     "output_type": "execute_result"
    }
   ],
   "source": [
    "X.head()"
   ]
  },
  {
   "cell_type": "markdown",
   "id": "79164604-5eb9-48ff-a56e-c811f461af71",
   "metadata": {},
   "source": [
    "### Train test split"
   ]
  },
  {
   "cell_type": "code",
   "execution_count": 8,
   "id": "185468bb-5468-421a-b3f8-70dad2ad95af",
   "metadata": {},
   "outputs": [],
   "source": [
    "from sklearn.model_selection import train_test_split\n",
    "\n",
    "X_train, X_test, y_train, y_test = train_test_split(X, y, test_size=0.3, random_state=31)"
   ]
  },
  {
   "cell_type": "code",
   "execution_count": 9,
   "id": "05a81ac6-5739-4374-8922-4f2d7fdd25de",
   "metadata": {},
   "outputs": [
    {
     "data": {
      "text/plain": [
       "Index(['start_station_id', 'temperature_f', 'precipitation_in',\n",
       "       'windspeed_mph', 'special_event', 'week_number_sin', 'week_number_cos',\n",
       "       'month_sin', 'month_cos', 'weekday_sin', 'weekday_cos', 'hour_sin',\n",
       "       'hour_cos'],\n",
       "      dtype='object')"
      ]
     },
     "execution_count": 9,
     "metadata": {},
     "output_type": "execute_result"
    }
   ],
   "source": [
    "X_train.columns"
   ]
  },
  {
   "cell_type": "code",
   "execution_count": 10,
   "id": "de7d4df3-5a78-414c-8f20-97a3974d8d23",
   "metadata": {},
   "outputs": [
    {
     "data": {
      "text/html": [
       "<div>\n",
       "<style scoped>\n",
       "    .dataframe tbody tr th:only-of-type {\n",
       "        vertical-align: middle;\n",
       "    }\n",
       "\n",
       "    .dataframe tbody tr th {\n",
       "        vertical-align: top;\n",
       "    }\n",
       "\n",
       "    .dataframe thead th {\n",
       "        text-align: right;\n",
       "    }\n",
       "</style>\n",
       "<table border=\"1\" class=\"dataframe\">\n",
       "  <thead>\n",
       "    <tr style=\"text-align: right;\">\n",
       "      <th></th>\n",
       "      <th>start_station_id</th>\n",
       "      <th>temperature_f</th>\n",
       "      <th>precipitation_in</th>\n",
       "      <th>windspeed_mph</th>\n",
       "      <th>special_event</th>\n",
       "      <th>week_number_sin</th>\n",
       "      <th>week_number_cos</th>\n",
       "      <th>month_sin</th>\n",
       "      <th>month_cos</th>\n",
       "      <th>weekday_sin</th>\n",
       "      <th>weekday_cos</th>\n",
       "      <th>hour_sin</th>\n",
       "      <th>hour_cos</th>\n",
       "    </tr>\n",
       "  </thead>\n",
       "  <tbody>\n",
       "    <tr>\n",
       "      <th>269024</th>\n",
       "      <td>0.570143</td>\n",
       "      <td>-1.413618</td>\n",
       "      <td>-0.384859</td>\n",
       "      <td>0.364954</td>\n",
       "      <td>-0.245113</td>\n",
       "      <td>1.406358</td>\n",
       "      <td>0.333364</td>\n",
       "      <td>1.435657</td>\n",
       "      <td>0.152829</td>\n",
       "      <td>1.085427</td>\n",
       "      <td>1.085427</td>\n",
       "      <td>0.759284</td>\n",
       "      <td>1.500574</td>\n",
       "    </tr>\n",
       "    <tr>\n",
       "      <th>157245</th>\n",
       "      <td>0.570143</td>\n",
       "      <td>1.832664</td>\n",
       "      <td>-0.384859</td>\n",
       "      <td>0.629438</td>\n",
       "      <td>-0.245113</td>\n",
       "      <td>-0.468187</td>\n",
       "      <td>-1.267475</td>\n",
       "      <td>-0.642759</td>\n",
       "      <td>-1.157458</td>\n",
       "      <td>1.085427</td>\n",
       "      <td>1.085427</td>\n",
       "      <td>0.031986</td>\n",
       "      <td>-1.269800</td>\n",
       "    </tr>\n",
       "    <tr>\n",
       "      <th>268090</th>\n",
       "      <td>1.460311</td>\n",
       "      <td>-0.873901</td>\n",
       "      <td>-0.384859</td>\n",
       "      <td>1.239812</td>\n",
       "      <td>-0.245113</td>\n",
       "      <td>1.376580</td>\n",
       "      <td>0.496909</td>\n",
       "      <td>1.435657</td>\n",
       "      <td>0.152829</td>\n",
       "      <td>-1.401339</td>\n",
       "      <td>-1.401339</td>\n",
       "      <td>-1.049891</td>\n",
       "      <td>1.024742</td>\n",
       "    </tr>\n",
       "    <tr>\n",
       "      <th>113527</th>\n",
       "      <td>0.184330</td>\n",
       "      <td>-0.762481</td>\n",
       "      <td>-0.384859</td>\n",
       "      <td>0.392303</td>\n",
       "      <td>-0.245113</td>\n",
       "      <td>1.376580</td>\n",
       "      <td>-0.184231</td>\n",
       "      <td>1.258875</td>\n",
       "      <td>-0.584935</td>\n",
       "      <td>-1.136453</td>\n",
       "      <td>-1.136453</td>\n",
       "      <td>-1.049891</td>\n",
       "      <td>1.024742</td>\n",
       "    </tr>\n",
       "    <tr>\n",
       "      <th>196931</th>\n",
       "      <td>-0.388722</td>\n",
       "      <td>-0.231364</td>\n",
       "      <td>2.937298</td>\n",
       "      <td>0.923415</td>\n",
       "      <td>-0.245113</td>\n",
       "      <td>-1.381584</td>\n",
       "      <td>0.333364</td>\n",
       "      <td>-1.187383</td>\n",
       "      <td>0.831289</td>\n",
       "      <td>1.369529</td>\n",
       "      <td>1.369529</td>\n",
       "      <td>1.268263</td>\n",
       "      <td>-0.759956</td>\n",
       "    </tr>\n",
       "  </tbody>\n",
       "</table>\n",
       "</div>"
      ],
      "text/plain": [
       "        start_station_id  temperature_f  precipitation_in  windspeed_mph  \\\n",
       "269024          0.570143      -1.413618         -0.384859       0.364954   \n",
       "157245          0.570143       1.832664         -0.384859       0.629438   \n",
       "268090          1.460311      -0.873901         -0.384859       1.239812   \n",
       "113527          0.184330      -0.762481         -0.384859       0.392303   \n",
       "196931         -0.388722      -0.231364          2.937298       0.923415   \n",
       "\n",
       "        special_event  week_number_sin  week_number_cos  month_sin  month_cos  \\\n",
       "269024      -0.245113         1.406358         0.333364   1.435657   0.152829   \n",
       "157245      -0.245113        -0.468187        -1.267475  -0.642759  -1.157458   \n",
       "268090      -0.245113         1.376580         0.496909   1.435657   0.152829   \n",
       "113527      -0.245113         1.376580        -0.184231   1.258875  -0.584935   \n",
       "196931      -0.245113        -1.381584         0.333364  -1.187383   0.831289   \n",
       "\n",
       "        weekday_sin  weekday_cos  hour_sin  hour_cos  \n",
       "269024     1.085427     1.085427  0.759284  1.500574  \n",
       "157245     1.085427     1.085427  0.031986 -1.269800  \n",
       "268090    -1.401339    -1.401339 -1.049891  1.024742  \n",
       "113527    -1.136453    -1.136453 -1.049891  1.024742  \n",
       "196931     1.369529     1.369529  1.268263 -0.759956  "
      ]
     },
     "execution_count": 10,
     "metadata": {},
     "output_type": "execute_result"
    }
   ],
   "source": [
    "## Transform ##\n",
    "from sklearn.preprocessing import PowerTransformer\n",
    "\n",
    "power = PowerTransformer(method='yeo-johnson', standardize=True)\n",
    "power.fit(X_train)\n",
    "\n",
    "X_train_num_transformed = power.transform(X_train)\n",
    "X_test_num_transformed = power.transform(X_test)\n",
    "\n",
    "X_train_num_transformed_df = pd.DataFrame(X_train_num_transformed, columns = X_train.columns, index = X_train.index)\n",
    "X_test_num_transformed_df = pd.DataFrame(X_test_num_transformed, columns = X_test.columns, index = X_test.index)\n",
    "\n",
    "X_train_num_transformed_df.head()"
   ]
  },
  {
   "cell_type": "code",
   "execution_count": 11,
   "id": "fd780ee4-ff68-4a78-a191-36d360128544",
   "metadata": {},
   "outputs": [],
   "source": [
    "### StandardScaler ###\n",
    "from sklearn.preprocessing import StandardScaler\n",
    "\n",
    "#fit\n",
    "scaler = StandardScaler().fit(X_train_num_transformed_df)\n",
    "\n",
    "#transform\n",
    "X_train_num_scaled = scaler.transform(X_train_num_transformed_df)\n",
    "X_test_num_scaled = scaler.transform(X_test_num_transformed_df)\n",
    "\n",
    "X_train_num_scaled_df = pd.DataFrame(X_train_num_scaled, columns=X_train_num_transformed_df.columns, index=X_train_num_transformed_df.index)\n",
    "X_test_num_scaled_df = pd.DataFrame(X_test_num_scaled, columns = X_test_num_transformed_df.columns, index=X_test_num_transformed_df.index)"
   ]
  },
  {
   "cell_type": "markdown",
   "id": "8a73c50d-20f5-4a67-bd2b-c1cd6440a670",
   "metadata": {},
   "source": [
    "### Concating datasets"
   ]
  },
  {
   "cell_type": "code",
   "execution_count": 12,
   "id": "5c25248f-0362-4601-bd63-eca9eb594c8e",
   "metadata": {},
   "outputs": [],
   "source": [
    "X_train_new = X_train_num_scaled_df.copy()\n",
    "X_test_new = X_test_num_scaled_df.copy()"
   ]
  },
  {
   "cell_type": "code",
   "execution_count": 13,
   "id": "ad3eb754-d5ee-4d97-a951-3d964e6f198f",
   "metadata": {},
   "outputs": [
    {
     "data": {
      "text/html": [
       "<div>\n",
       "<style scoped>\n",
       "    .dataframe tbody tr th:only-of-type {\n",
       "        vertical-align: middle;\n",
       "    }\n",
       "\n",
       "    .dataframe tbody tr th {\n",
       "        vertical-align: top;\n",
       "    }\n",
       "\n",
       "    .dataframe thead th {\n",
       "        text-align: right;\n",
       "    }\n",
       "</style>\n",
       "<table border=\"1\" class=\"dataframe\">\n",
       "  <thead>\n",
       "    <tr style=\"text-align: right;\">\n",
       "      <th></th>\n",
       "      <th>start_station_id</th>\n",
       "      <th>temperature_f</th>\n",
       "      <th>precipitation_in</th>\n",
       "      <th>windspeed_mph</th>\n",
       "      <th>special_event</th>\n",
       "      <th>week_number_sin</th>\n",
       "      <th>week_number_cos</th>\n",
       "      <th>month_sin</th>\n",
       "      <th>month_cos</th>\n",
       "      <th>weekday_sin</th>\n",
       "      <th>weekday_cos</th>\n",
       "      <th>hour_sin</th>\n",
       "      <th>hour_cos</th>\n",
       "    </tr>\n",
       "  </thead>\n",
       "  <tbody>\n",
       "    <tr>\n",
       "      <th>269024</th>\n",
       "      <td>0.570143</td>\n",
       "      <td>-1.413618</td>\n",
       "      <td>-0.384859</td>\n",
       "      <td>0.364954</td>\n",
       "      <td>-0.245113</td>\n",
       "      <td>1.406358</td>\n",
       "      <td>0.333364</td>\n",
       "      <td>1.435657</td>\n",
       "      <td>0.152829</td>\n",
       "      <td>1.085427</td>\n",
       "      <td>1.085427</td>\n",
       "      <td>0.759284</td>\n",
       "      <td>1.500574</td>\n",
       "    </tr>\n",
       "    <tr>\n",
       "      <th>157245</th>\n",
       "      <td>0.570143</td>\n",
       "      <td>1.832664</td>\n",
       "      <td>-0.384859</td>\n",
       "      <td>0.629438</td>\n",
       "      <td>-0.245113</td>\n",
       "      <td>-0.468187</td>\n",
       "      <td>-1.267475</td>\n",
       "      <td>-0.642759</td>\n",
       "      <td>-1.157458</td>\n",
       "      <td>1.085427</td>\n",
       "      <td>1.085427</td>\n",
       "      <td>0.031986</td>\n",
       "      <td>-1.269800</td>\n",
       "    </tr>\n",
       "    <tr>\n",
       "      <th>268090</th>\n",
       "      <td>1.460311</td>\n",
       "      <td>-0.873901</td>\n",
       "      <td>-0.384859</td>\n",
       "      <td>1.239812</td>\n",
       "      <td>-0.245113</td>\n",
       "      <td>1.376580</td>\n",
       "      <td>0.496909</td>\n",
       "      <td>1.435657</td>\n",
       "      <td>0.152829</td>\n",
       "      <td>-1.401339</td>\n",
       "      <td>-1.401339</td>\n",
       "      <td>-1.049891</td>\n",
       "      <td>1.024742</td>\n",
       "    </tr>\n",
       "    <tr>\n",
       "      <th>113527</th>\n",
       "      <td>0.184330</td>\n",
       "      <td>-0.762481</td>\n",
       "      <td>-0.384859</td>\n",
       "      <td>0.392303</td>\n",
       "      <td>-0.245113</td>\n",
       "      <td>1.376580</td>\n",
       "      <td>-0.184231</td>\n",
       "      <td>1.258875</td>\n",
       "      <td>-0.584935</td>\n",
       "      <td>-1.136453</td>\n",
       "      <td>-1.136453</td>\n",
       "      <td>-1.049891</td>\n",
       "      <td>1.024742</td>\n",
       "    </tr>\n",
       "    <tr>\n",
       "      <th>196931</th>\n",
       "      <td>-0.388722</td>\n",
       "      <td>-0.231364</td>\n",
       "      <td>2.937298</td>\n",
       "      <td>0.923415</td>\n",
       "      <td>-0.245113</td>\n",
       "      <td>-1.381584</td>\n",
       "      <td>0.333364</td>\n",
       "      <td>-1.187383</td>\n",
       "      <td>0.831289</td>\n",
       "      <td>1.369529</td>\n",
       "      <td>1.369529</td>\n",
       "      <td>1.268263</td>\n",
       "      <td>-0.759956</td>\n",
       "    </tr>\n",
       "  </tbody>\n",
       "</table>\n",
       "</div>"
      ],
      "text/plain": [
       "        start_station_id  temperature_f  precipitation_in  windspeed_mph  \\\n",
       "269024          0.570143      -1.413618         -0.384859       0.364954   \n",
       "157245          0.570143       1.832664         -0.384859       0.629438   \n",
       "268090          1.460311      -0.873901         -0.384859       1.239812   \n",
       "113527          0.184330      -0.762481         -0.384859       0.392303   \n",
       "196931         -0.388722      -0.231364          2.937298       0.923415   \n",
       "\n",
       "        special_event  week_number_sin  week_number_cos  month_sin  month_cos  \\\n",
       "269024      -0.245113         1.406358         0.333364   1.435657   0.152829   \n",
       "157245      -0.245113        -0.468187        -1.267475  -0.642759  -1.157458   \n",
       "268090      -0.245113         1.376580         0.496909   1.435657   0.152829   \n",
       "113527      -0.245113         1.376580        -0.184231   1.258875  -0.584935   \n",
       "196931      -0.245113        -1.381584         0.333364  -1.187383   0.831289   \n",
       "\n",
       "        weekday_sin  weekday_cos  hour_sin  hour_cos  \n",
       "269024     1.085427     1.085427  0.759284  1.500574  \n",
       "157245     1.085427     1.085427  0.031986 -1.269800  \n",
       "268090    -1.401339    -1.401339 -1.049891  1.024742  \n",
       "113527    -1.136453    -1.136453 -1.049891  1.024742  \n",
       "196931     1.369529     1.369529  1.268263 -0.759956  "
      ]
     },
     "execution_count": 13,
     "metadata": {},
     "output_type": "execute_result"
    }
   ],
   "source": [
    "X_train_new.head()"
   ]
  },
  {
   "cell_type": "markdown",
   "id": "d49b2ce0-48ad-407b-8596-52fb4fc25d27",
   "metadata": {},
   "source": [
    "### KNN Regressor on cyclic dataset with no OHE - baseline"
   ]
  },
  {
   "cell_type": "code",
   "execution_count": 18,
   "id": "98cfef58-a504-4f27-b473-457f2efa8046",
   "metadata": {
    "editable": true,
    "slideshow": {
     "slide_type": ""
    },
    "tags": []
   },
   "outputs": [
    {
     "data": {
      "text/html": [
       "<style>#sk-container-id-1 {color: black;}#sk-container-id-1 pre{padding: 0;}#sk-container-id-1 div.sk-toggleable {background-color: white;}#sk-container-id-1 label.sk-toggleable__label {cursor: pointer;display: block;width: 100%;margin-bottom: 0;padding: 0.3em;box-sizing: border-box;text-align: center;}#sk-container-id-1 label.sk-toggleable__label-arrow:before {content: \"▸\";float: left;margin-right: 0.25em;color: #696969;}#sk-container-id-1 label.sk-toggleable__label-arrow:hover:before {color: black;}#sk-container-id-1 div.sk-estimator:hover label.sk-toggleable__label-arrow:before {color: black;}#sk-container-id-1 div.sk-toggleable__content {max-height: 0;max-width: 0;overflow: hidden;text-align: left;background-color: #f0f8ff;}#sk-container-id-1 div.sk-toggleable__content pre {margin: 0.2em;color: black;border-radius: 0.25em;background-color: #f0f8ff;}#sk-container-id-1 input.sk-toggleable__control:checked~div.sk-toggleable__content {max-height: 200px;max-width: 100%;overflow: auto;}#sk-container-id-1 input.sk-toggleable__control:checked~label.sk-toggleable__label-arrow:before {content: \"▾\";}#sk-container-id-1 div.sk-estimator input.sk-toggleable__control:checked~label.sk-toggleable__label {background-color: #d4ebff;}#sk-container-id-1 div.sk-label input.sk-toggleable__control:checked~label.sk-toggleable__label {background-color: #d4ebff;}#sk-container-id-1 input.sk-hidden--visually {border: 0;clip: rect(1px 1px 1px 1px);clip: rect(1px, 1px, 1px, 1px);height: 1px;margin: -1px;overflow: hidden;padding: 0;position: absolute;width: 1px;}#sk-container-id-1 div.sk-estimator {font-family: monospace;background-color: #f0f8ff;border: 1px dotted black;border-radius: 0.25em;box-sizing: border-box;margin-bottom: 0.5em;}#sk-container-id-1 div.sk-estimator:hover {background-color: #d4ebff;}#sk-container-id-1 div.sk-parallel-item::after {content: \"\";width: 100%;border-bottom: 1px solid gray;flex-grow: 1;}#sk-container-id-1 div.sk-label:hover label.sk-toggleable__label {background-color: #d4ebff;}#sk-container-id-1 div.sk-serial::before {content: \"\";position: absolute;border-left: 1px solid gray;box-sizing: border-box;top: 0;bottom: 0;left: 50%;z-index: 0;}#sk-container-id-1 div.sk-serial {display: flex;flex-direction: column;align-items: center;background-color: white;padding-right: 0.2em;padding-left: 0.2em;position: relative;}#sk-container-id-1 div.sk-item {position: relative;z-index: 1;}#sk-container-id-1 div.sk-parallel {display: flex;align-items: stretch;justify-content: center;background-color: white;position: relative;}#sk-container-id-1 div.sk-item::before, #sk-container-id-1 div.sk-parallel-item::before {content: \"\";position: absolute;border-left: 1px solid gray;box-sizing: border-box;top: 0;bottom: 0;left: 50%;z-index: -1;}#sk-container-id-1 div.sk-parallel-item {display: flex;flex-direction: column;z-index: 1;position: relative;background-color: white;}#sk-container-id-1 div.sk-parallel-item:first-child::after {align-self: flex-end;width: 50%;}#sk-container-id-1 div.sk-parallel-item:last-child::after {align-self: flex-start;width: 50%;}#sk-container-id-1 div.sk-parallel-item:only-child::after {width: 0;}#sk-container-id-1 div.sk-dashed-wrapped {border: 1px dashed gray;margin: 0 0.4em 0.5em 0.4em;box-sizing: border-box;padding-bottom: 0.4em;background-color: white;}#sk-container-id-1 div.sk-label label {font-family: monospace;font-weight: bold;display: inline-block;line-height: 1.2em;}#sk-container-id-1 div.sk-label-container {text-align: center;}#sk-container-id-1 div.sk-container {/* jupyter's `normalize.less` sets `[hidden] { display: none; }` but bootstrap.min.css set `[hidden] { display: none !important; }` so we also need the `!important` here to be able to override the default hidden behavior on the sphinx rendered scikit-learn.org. See: https://github.com/scikit-learn/scikit-learn/issues/21755 */display: inline-block !important;position: relative;}#sk-container-id-1 div.sk-text-repr-fallback {display: none;}</style><div id=\"sk-container-id-1\" class=\"sk-top-container\"><div class=\"sk-text-repr-fallback\"><pre>KNeighborsRegressor()</pre><b>In a Jupyter environment, please rerun this cell to show the HTML representation or trust the notebook. <br />On GitHub, the HTML representation is unable to render, please try loading this page with nbviewer.org.</b></div><div class=\"sk-container\" hidden><div class=\"sk-item\"><div class=\"sk-estimator sk-toggleable\"><input class=\"sk-toggleable__control sk-hidden--visually\" id=\"sk-estimator-id-1\" type=\"checkbox\" checked><label for=\"sk-estimator-id-1\" class=\"sk-toggleable__label sk-toggleable__label-arrow\">KNeighborsRegressor</label><div class=\"sk-toggleable__content\"><pre>KNeighborsRegressor()</pre></div></div></div></div></div>"
      ],
      "text/plain": [
       "KNeighborsRegressor()"
      ]
     },
     "execution_count": 18,
     "metadata": {},
     "output_type": "execute_result"
    }
   ],
   "source": [
    "from sklearn.neighbors import KNeighborsRegressor\n",
    "\n",
    "knn = KNeighborsRegressor()\n",
    "\n",
    "knn.fit(X_train_new, y_train)"
   ]
  },
  {
   "cell_type": "code",
   "execution_count": 19,
   "id": "daaae65a-677c-4b70-807f-ad7a2fc1a59a",
   "metadata": {},
   "outputs": [
    {
     "data": {
      "text/plain": [
       "0.6589812273365998"
      ]
     },
     "execution_count": 19,
     "metadata": {},
     "output_type": "execute_result"
    }
   ],
   "source": [
    "knn.score(X_test_new, y_test)"
   ]
  },
  {
   "cell_type": "markdown",
   "id": "f74f060e-7db9-434d-8fd9-eddb49a0630b",
   "metadata": {
    "editable": true,
    "slideshow": {
     "slide_type": ""
    },
    "tags": []
   },
   "source": [
    "## Optimizing hyperparameters"
   ]
  },
  {
   "cell_type": "code",
   "execution_count": 20,
   "id": "5160a0d2-509a-4305-8698-ac239e4c3162",
   "metadata": {},
   "outputs": [
    {
     "data": {
      "text/plain": [
       "0.6748876914427298"
      ]
     },
     "execution_count": 20,
     "metadata": {},
     "output_type": "execute_result"
    }
   ],
   "source": [
    "from sklearn.model_selection import GridSearchCV\n",
    "from sklearn.neighbors import KNeighborsRegressor\n",
    "\n",
    "knn = KNeighborsRegressor()\n",
    "\n",
    "param_grid = {'n_neighbors':[3,5,7],\n",
    "            'weights':['uniform', 'distance']}\n",
    "\n",
    "# initialize\n",
    "grid_search = GridSearchCV(knn,param_grid, cv=5, return_train_score=True, n_jobs=2)\n",
    "\n",
    "\n",
    "# fit\n",
    "grid_search.fit(X_train_new,y_train)\n",
    "grid_search.best_score_"
   ]
  },
  {
   "cell_type": "code",
   "execution_count": 21,
   "id": "0d3618cf-a959-4d7b-993a-af7c173d5e30",
   "metadata": {
    "editable": true,
    "slideshow": {
     "slide_type": ""
    },
    "tags": []
   },
   "outputs": [
    {
     "data": {
      "text/plain": [
       "{'n_neighbors': 7, 'weights': 'uniform'}"
      ]
     },
     "execution_count": 21,
     "metadata": {},
     "output_type": "execute_result"
    }
   ],
   "source": [
    "grid_search.best_params_"
   ]
  },
  {
   "cell_type": "code",
   "execution_count": 34,
   "id": "2cf7f7d1-245e-48c0-82a5-ac3d123a8286",
   "metadata": {},
   "outputs": [],
   "source": [
    "with open('../gridsearch/knn_no_OHE.pkl', \"wb\") as file:\n",
    "    pickle.dump(grid_search, file)"
   ]
  },
  {
   "cell_type": "code",
   "execution_count": 22,
   "id": "380675a4-17c6-49ee-97e7-46985c565b38",
   "metadata": {},
   "outputs": [
    {
     "data": {
      "text/html": [
       "<style>#sk-container-id-2 {color: black;}#sk-container-id-2 pre{padding: 0;}#sk-container-id-2 div.sk-toggleable {background-color: white;}#sk-container-id-2 label.sk-toggleable__label {cursor: pointer;display: block;width: 100%;margin-bottom: 0;padding: 0.3em;box-sizing: border-box;text-align: center;}#sk-container-id-2 label.sk-toggleable__label-arrow:before {content: \"▸\";float: left;margin-right: 0.25em;color: #696969;}#sk-container-id-2 label.sk-toggleable__label-arrow:hover:before {color: black;}#sk-container-id-2 div.sk-estimator:hover label.sk-toggleable__label-arrow:before {color: black;}#sk-container-id-2 div.sk-toggleable__content {max-height: 0;max-width: 0;overflow: hidden;text-align: left;background-color: #f0f8ff;}#sk-container-id-2 div.sk-toggleable__content pre {margin: 0.2em;color: black;border-radius: 0.25em;background-color: #f0f8ff;}#sk-container-id-2 input.sk-toggleable__control:checked~div.sk-toggleable__content {max-height: 200px;max-width: 100%;overflow: auto;}#sk-container-id-2 input.sk-toggleable__control:checked~label.sk-toggleable__label-arrow:before {content: \"▾\";}#sk-container-id-2 div.sk-estimator input.sk-toggleable__control:checked~label.sk-toggleable__label {background-color: #d4ebff;}#sk-container-id-2 div.sk-label input.sk-toggleable__control:checked~label.sk-toggleable__label {background-color: #d4ebff;}#sk-container-id-2 input.sk-hidden--visually {border: 0;clip: rect(1px 1px 1px 1px);clip: rect(1px, 1px, 1px, 1px);height: 1px;margin: -1px;overflow: hidden;padding: 0;position: absolute;width: 1px;}#sk-container-id-2 div.sk-estimator {font-family: monospace;background-color: #f0f8ff;border: 1px dotted black;border-radius: 0.25em;box-sizing: border-box;margin-bottom: 0.5em;}#sk-container-id-2 div.sk-estimator:hover {background-color: #d4ebff;}#sk-container-id-2 div.sk-parallel-item::after {content: \"\";width: 100%;border-bottom: 1px solid gray;flex-grow: 1;}#sk-container-id-2 div.sk-label:hover label.sk-toggleable__label {background-color: #d4ebff;}#sk-container-id-2 div.sk-serial::before {content: \"\";position: absolute;border-left: 1px solid gray;box-sizing: border-box;top: 0;bottom: 0;left: 50%;z-index: 0;}#sk-container-id-2 div.sk-serial {display: flex;flex-direction: column;align-items: center;background-color: white;padding-right: 0.2em;padding-left: 0.2em;position: relative;}#sk-container-id-2 div.sk-item {position: relative;z-index: 1;}#sk-container-id-2 div.sk-parallel {display: flex;align-items: stretch;justify-content: center;background-color: white;position: relative;}#sk-container-id-2 div.sk-item::before, #sk-container-id-2 div.sk-parallel-item::before {content: \"\";position: absolute;border-left: 1px solid gray;box-sizing: border-box;top: 0;bottom: 0;left: 50%;z-index: -1;}#sk-container-id-2 div.sk-parallel-item {display: flex;flex-direction: column;z-index: 1;position: relative;background-color: white;}#sk-container-id-2 div.sk-parallel-item:first-child::after {align-self: flex-end;width: 50%;}#sk-container-id-2 div.sk-parallel-item:last-child::after {align-self: flex-start;width: 50%;}#sk-container-id-2 div.sk-parallel-item:only-child::after {width: 0;}#sk-container-id-2 div.sk-dashed-wrapped {border: 1px dashed gray;margin: 0 0.4em 0.5em 0.4em;box-sizing: border-box;padding-bottom: 0.4em;background-color: white;}#sk-container-id-2 div.sk-label label {font-family: monospace;font-weight: bold;display: inline-block;line-height: 1.2em;}#sk-container-id-2 div.sk-label-container {text-align: center;}#sk-container-id-2 div.sk-container {/* jupyter's `normalize.less` sets `[hidden] { display: none; }` but bootstrap.min.css set `[hidden] { display: none !important; }` so we also need the `!important` here to be able to override the default hidden behavior on the sphinx rendered scikit-learn.org. See: https://github.com/scikit-learn/scikit-learn/issues/21755 */display: inline-block !important;position: relative;}#sk-container-id-2 div.sk-text-repr-fallback {display: none;}</style><div id=\"sk-container-id-2\" class=\"sk-top-container\"><div class=\"sk-text-repr-fallback\"><pre>KNeighborsRegressor(n_neighbors=7)</pre><b>In a Jupyter environment, please rerun this cell to show the HTML representation or trust the notebook. <br />On GitHub, the HTML representation is unable to render, please try loading this page with nbviewer.org.</b></div><div class=\"sk-container\" hidden><div class=\"sk-item\"><div class=\"sk-estimator sk-toggleable\"><input class=\"sk-toggleable__control sk-hidden--visually\" id=\"sk-estimator-id-2\" type=\"checkbox\" checked><label for=\"sk-estimator-id-2\" class=\"sk-toggleable__label sk-toggleable__label-arrow\">KNeighborsRegressor</label><div class=\"sk-toggleable__content\"><pre>KNeighborsRegressor(n_neighbors=7)</pre></div></div></div></div></div>"
      ],
      "text/plain": [
       "KNeighborsRegressor(n_neighbors=7)"
      ]
     },
     "execution_count": 22,
     "metadata": {},
     "output_type": "execute_result"
    }
   ],
   "source": [
    "from sklearn.neighbors import KNeighborsRegressor\n",
    "\n",
    "knn2 = KNeighborsRegressor(n_neighbors = 7, weights = 'uniform')\n",
    "\n",
    "knn2.fit(X_train_new, y_train)"
   ]
  },
  {
   "cell_type": "code",
   "execution_count": 23,
   "id": "fe519250-b953-4f88-ba7b-a83dbc9c4b77",
   "metadata": {},
   "outputs": [
    {
     "data": {
      "text/plain": [
       "0.6741358663715205"
      ]
     },
     "execution_count": 23,
     "metadata": {},
     "output_type": "execute_result"
    }
   ],
   "source": [
    "knn2.score(X_test_new, y_test)"
   ]
  },
  {
   "cell_type": "code",
   "execution_count": 35,
   "id": "69a7b4b0-0647-4e3f-9f22-fd4e75d049dc",
   "metadata": {},
   "outputs": [],
   "source": [
    "with open('../models/knn_no_OHE.pkl', \"wb\") as file:\n",
    "    pickle.dump(knn2, file)"
   ]
  },
  {
   "cell_type": "code",
   "execution_count": 14,
   "id": "18ff2bd6-da1c-4e73-b990-62fd4cee1e7f",
   "metadata": {},
   "outputs": [],
   "source": [
    "with open('../models/knn_no_OHE.pkl', \"rb\") as file:\n",
    "    knn2 = pickle.load(file)"
   ]
  },
  {
   "cell_type": "code",
   "execution_count": 15,
   "id": "48b6c2ba-b62b-48fb-a4ae-e305ac3ce3e5",
   "metadata": {
    "editable": true,
    "slideshow": {
     "slide_type": ""
    },
    "tags": []
   },
   "outputs": [],
   "source": [
    "y_test_pred = knn2.predict(X_test_new)"
   ]
  },
  {
   "cell_type": "code",
   "execution_count": 16,
   "id": "7840e5e3-f4cf-4781-bec2-f597127d96ba",
   "metadata": {
    "editable": true,
    "slideshow": {
     "slide_type": ""
    },
    "tags": []
   },
   "outputs": [],
   "source": [
    "y_train_pred = knn2.predict(X_train_new)"
   ]
  },
  {
   "cell_type": "code",
   "execution_count": 17,
   "id": "3e5c642f-475b-4369-98ea-beb6aff4542d",
   "metadata": {
    "editable": true,
    "slideshow": {
     "slide_type": ""
    },
    "tags": []
   },
   "outputs": [],
   "source": [
    "from functions import prep_for_eval, error_metrics_report, plot_real_predicted"
   ]
  },
  {
   "cell_type": "code",
   "execution_count": 18,
   "id": "d52b3558-4b48-4e4d-9aba-c2d0bfcdde2f",
   "metadata": {},
   "outputs": [
    {
     "data": {
      "text/html": [
       "<div>\n",
       "<style scoped>\n",
       "    .dataframe tbody tr th:only-of-type {\n",
       "        vertical-align: middle;\n",
       "    }\n",
       "\n",
       "    .dataframe tbody tr th {\n",
       "        vertical-align: top;\n",
       "    }\n",
       "\n",
       "    .dataframe thead th {\n",
       "        text-align: right;\n",
       "    }\n",
       "</style>\n",
       "<table border=\"1\" class=\"dataframe\">\n",
       "  <thead>\n",
       "    <tr style=\"text-align: right;\">\n",
       "      <th></th>\n",
       "      <th>Metric</th>\n",
       "      <th>Train</th>\n",
       "      <th>Test</th>\n",
       "    </tr>\n",
       "  </thead>\n",
       "  <tbody>\n",
       "    <tr>\n",
       "      <th>0</th>\n",
       "      <td>MAE</td>\n",
       "      <td>2.22</td>\n",
       "      <td>2.58</td>\n",
       "    </tr>\n",
       "    <tr>\n",
       "      <th>1</th>\n",
       "      <td>MSE</td>\n",
       "      <td>9.97</td>\n",
       "      <td>13.43</td>\n",
       "    </tr>\n",
       "    <tr>\n",
       "      <th>2</th>\n",
       "      <td>RMSE</td>\n",
       "      <td>3.16</td>\n",
       "      <td>3.66</td>\n",
       "    </tr>\n",
       "    <tr>\n",
       "      <th>3</th>\n",
       "      <td>R2</td>\n",
       "      <td>0.76</td>\n",
       "      <td>0.67</td>\n",
       "    </tr>\n",
       "  </tbody>\n",
       "</table>\n",
       "</div>"
      ],
      "text/plain": [
       "  Metric  Train   Test\n",
       "0    MAE   2.22   2.58\n",
       "1    MSE   9.97  13.43\n",
       "2   RMSE   3.16   3.66\n",
       "3     R2   0.76   0.67"
      ]
     },
     "execution_count": 18,
     "metadata": {},
     "output_type": "execute_result"
    }
   ],
   "source": [
    "error_metrics_report(y_train, y_test, y_train_pred, y_test_pred)"
   ]
  },
  {
   "cell_type": "code",
   "execution_count": 19,
   "id": "e367cc9c-dd04-48f5-bafd-a756713fb1d6",
   "metadata": {},
   "outputs": [
    {
     "data": {
      "image/png": "[encoded data removed]",
      "text/plain": [
       "<Figure size 2400x800 with 3 Axes>"
      ]
     },
     "metadata": {},
     "output_type": "display_data"
    }
   ],
   "source": [
    "plot_real_predicted('test', y_test, y_test_pred)"
   ]
  },
  {
   "cell_type": "code",
   "execution_count": null,
   "id": "59f8bb65-1235-470f-a718-e2b0377c1803",
   "metadata": {
    "editable": true,
    "slideshow": {
     "slide_type": ""
    },
    "tags": []
   },
   "outputs": [],
   "source": []
  }
 ],
 "metadata": {
  "kernelspec": {
   "display_name": "citi_venv",
   "language": "python",
   "name": "citi_venv"
  },
  "language_info": {
   "codemirror_mode": {
    "name": "ipython",
    "version": 3
   },
   "file_extension": ".py",
   "mimetype": "text/x-python",
   "name": "python",
   "nbconvert_exporter": "python",
   "pygments_lexer": "ipython3",
   "version": "3.11.4"
  }
 },
 "nbformat": 4,
 "nbformat_minor": 5
}
