{
 "cells": [
  {
   "cell_type": "markdown",
   "id": "4bf4b524-6e15-4859-95aa-04bf2e9bb6ab",
   "metadata": {},
   "source": [
    "# Mapping Citi bike stations"
   ]
  },
  {
   "cell_type": "code",
   "execution_count": 1,
   "id": "14266491-2c99-4366-bfcb-50d212bd586a",
   "metadata": {},
   "outputs": [],
   "source": [
    "import pandas as pd\n",
    "import folium\n",
    "import yaml"
   ]
  },
  {
   "cell_type": "code",
   "execution_count": 2,
   "id": "4501c2c1-ee90-471c-ab7e-2da2399d1de1",
   "metadata": {},
   "outputs": [],
   "source": [
    "try:\n",
    "    with open(\"../config.yaml\", 'r') as file:\n",
    "        config = yaml.safe_load(file)\n",
    "except Exception as e:\n",
    "    print('Error reading config file')"
   ]
  },
  {
   "cell_type": "code",
   "execution_count": 3,
   "id": "71ff19d0-de9b-47fc-9313-3d082190dd66",
   "metadata": {
    "editable": true,
    "slideshow": {
     "slide_type": ""
    },
    "tags": []
   },
   "outputs": [],
   "source": [
    "data=pd.read_csv(config['data']['station_info'])"
   ]
  },
  {
   "cell_type": "code",
   "execution_count": 4,
   "id": "574d77e7-c7ad-4f78-bd1a-844a2b415df8",
   "metadata": {},
   "outputs": [
    {
     "data": {
      "text/html": [
       "<div>\n",
       "<style scoped>\n",
       "    .dataframe tbody tr th:only-of-type {\n",
       "        vertical-align: middle;\n",
       "    }\n",
       "\n",
       "    .dataframe tbody tr th {\n",
       "        vertical-align: top;\n",
       "    }\n",
       "\n",
       "    .dataframe thead th {\n",
       "        text-align: right;\n",
       "    }\n",
       "</style>\n",
       "<table border=\"1\" class=\"dataframe\">\n",
       "  <thead>\n",
       "    <tr style=\"text-align: right;\">\n",
       "      <th></th>\n",
       "      <th>start_station_id</th>\n",
       "      <th>start_station_name</th>\n",
       "      <th>start_lat</th>\n",
       "      <th>start_lng</th>\n",
       "    </tr>\n",
       "  </thead>\n",
       "  <tbody>\n",
       "    <tr>\n",
       "      <th>0</th>\n",
       "      <td>4846.01</td>\n",
       "      <td>South St &amp; Whitehall St</td>\n",
       "      <td>40.701221</td>\n",
       "      <td>-74.012342</td>\n",
       "    </tr>\n",
       "    <tr>\n",
       "      <th>1</th>\n",
       "      <td>4889.06</td>\n",
       "      <td>Bus Slip &amp; State St</td>\n",
       "      <td>40.701907</td>\n",
       "      <td>-74.013942</td>\n",
       "    </tr>\n",
       "    <tr>\n",
       "      <th>2</th>\n",
       "      <td>4953.04</td>\n",
       "      <td>South St &amp; Gouverneur Ln</td>\n",
       "      <td>40.703554</td>\n",
       "      <td>-74.006702</td>\n",
       "    </tr>\n",
       "    <tr>\n",
       "      <th>3</th>\n",
       "      <td>4962.01</td>\n",
       "      <td>Broadway &amp; Battery Pl</td>\n",
       "      <td>40.704633</td>\n",
       "      <td>-74.013617</td>\n",
       "    </tr>\n",
       "    <tr>\n",
       "      <th>4</th>\n",
       "      <td>4962.02</td>\n",
       "      <td>Whitehall St &amp; Bridge St</td>\n",
       "      <td>40.703748</td>\n",
       "      <td>-74.013133</td>\n",
       "    </tr>\n",
       "  </tbody>\n",
       "</table>\n",
       "</div>"
      ],
      "text/plain": [
       "   start_station_id        start_station_name  start_lat  start_lng\n",
       "0           4846.01   South St & Whitehall St  40.701221 -74.012342\n",
       "1           4889.06       Bus Slip & State St  40.701907 -74.013942\n",
       "2           4953.04  South St & Gouverneur Ln  40.703554 -74.006702\n",
       "3           4962.01     Broadway & Battery Pl  40.704633 -74.013617\n",
       "4           4962.02  Whitehall St & Bridge St  40.703748 -74.013133"
      ]
     },
     "execution_count": 4,
     "metadata": {},
     "output_type": "execute_result"
    }
   ],
   "source": [
    "data.head()"
   ]
  },
  {
   "cell_type": "markdown",
   "id": "58ace4df-9110-4573-b659-74860dced43b",
   "metadata": {},
   "source": [
    "## adding region"
   ]
  },
  {
   "cell_type": "code",
   "execution_count": 5,
   "id": "ee193916-8ed7-44b3-8882-05d541020567",
   "metadata": {},
   "outputs": [],
   "source": [
    "data['start_station_id'] = data['start_station_id'].astype('str')"
   ]
  },
  {
   "cell_type": "code",
   "execution_count": 6,
   "id": "1c131d84-2c17-4119-a6e7-4f59389f9c5f",
   "metadata": {
    "editable": true,
    "slideshow": {
     "slide_type": ""
    },
    "tags": []
   },
   "outputs": [],
   "source": [
    "lme = [\"5065.14\", \"5096.12\", \"5137.13\", \"5137.11\",\"5065.04\", \"5065.12\",\"4953.04\", \"5175.08\",  \"5207.01\", \"5105.01\"]\n",
    "lmw = [\"5114.06\",\"5145.02\",\"5184.08\", \"5297.02\", \"5329.08\", \"5216.04\", \"5288.09\",  \"5288.12\", \"5216.06\", \"5288.08\"]\n",
    "lms = [\"5033.01\",\"4962.01\",\"5001.08\",\"4962.02\",\"4962.08\",\"4993.02\", \"4993.13\", \"5073.07\", \"4846.01\",\"4889.06\"]"
   ]
  },
  {
   "cell_type": "code",
   "execution_count": 7,
   "id": "5ea5c677-6c4f-4a66-94d5-8963e179a177",
   "metadata": {
    "editable": true,
    "slideshow": {
     "slide_type": ""
    },
    "tags": []
   },
   "outputs": [],
   "source": [
    "data['region'] = list(map(lambda x: 'lme' if x in lme else ('lmw' if x in lmw else 'lms'), data['start_station_id']))"
   ]
  },
  {
   "cell_type": "code",
   "execution_count": 8,
   "id": "2add014a-40d1-4031-817e-a93944b9edb7",
   "metadata": {},
   "outputs": [
    {
     "data": {
      "text/plain": [
       "region\n",
       "lms    10\n",
       "lme    10\n",
       "lmw    10\n",
       "Name: count, dtype: int64"
      ]
     },
     "execution_count": 8,
     "metadata": {},
     "output_type": "execute_result"
    }
   ],
   "source": [
    "data.region.value_counts()"
   ]
  },
  {
   "cell_type": "code",
   "execution_count": 13,
   "id": "6d73ba38-8081-4e27-869d-49cc49d81e15",
   "metadata": {
    "editable": true,
    "slideshow": {
     "slide_type": ""
    },
    "tags": []
   },
   "outputs": [],
   "source": [
    "def create_citi_map(df):\n",
    "    \n",
    "    m = folium.Map(location=[40.70868217336032, -74.0110311319653], zoom_start=15)\n",
    "    \n",
    "    for index, row in df.iterrows():\n",
    "        tooltip = row['start_station_name']\n",
    "\n",
    "        # if row['region'] == 'lme':\n",
    "        #     color = 'blue'\n",
    "        # elif row['region'] == 'lmw':\n",
    "        #     color = 'orange'\n",
    "        # else:\n",
    "        #     color = 'green'\n",
    "        \n",
    "        folium.Marker(\n",
    "            [row['start_lat'], row['start_lng']],\n",
    "            tooltip=tooltip,\n",
    "            popup=\"Station id \" + row['start_station_id'],\n",
    "            icon=folium.Icon(prefix='fa', icon = 'bicycle') #,  color=color)\n",
    "        ).add_to(m)\n",
    "\n",
    "    return m"
   ]
  },
  {
   "cell_type": "code",
   "execution_count": 15,
   "id": "ea89a9c8-915b-407c-852c-334b8c03213b",
   "metadata": {
    "editable": true,
    "slideshow": {
     "slide_type": ""
    },
    "tags": []
   },
   "outputs": [],
   "source": [
    "bike_map = create_citi_map(data)"
   ]
  },
  {
   "cell_type": "code",
   "execution_count": 16,
   "id": "9b9fd755-1ad1-404f-ae97-292dc37d6c8f",
   "metadata": {
    "editable": true,
    "slideshow": {
     "slide_type": ""
    },
    "tags": []
   },
   "outputs": [],
   "source": [
    "bike_map.save(\"map.html\")"
   ]
  },
  {
   "cell_type": "code",
   "execution_count": 17,
   "id": "3107f7f3-8d90-4a43-a4d5-ef2d898f291f",
   "metadata": {
    "editable": true,
    "slideshow": {
     "slide_type": ""
    },
    "tags": []
   },
   "outputs": [
    {
     "data": {
      "text/plain": [
       "'/Users/deborahhaar/Desktop/ironhack-work/citi_bikes/notebooks'"
      ]
     },
     "execution_count": 17,
     "metadata": {},
     "output_type": "execute_result"
    }
   ],
   "source": [
    "import os\n",
    "\n",
    "os.getcwd()"
   ]
  },
  {
   "cell_type": "code",
   "execution_count": null,
   "id": "4e94665d-665b-4887-b0e5-1b6729f754ea",
   "metadata": {},
   "outputs": [],
   "source": []
  },
  {
   "cell_type": "code",
   "execution_count": null,
   "id": "374f5a45-87be-433a-b769-e30a6e7cf04f",
   "metadata": {},
   "outputs": [],
   "source": []
  }
 ],
 "metadata": {
  "kernelspec": {
   "display_name": "citi_venv",
   "language": "python",
   "name": "citi_venv"
  },
  "language_info": {
   "codemirror_mode": {
    "name": "ipython",
    "version": 3
   },
   "file_extension": ".py",
   "mimetype": "text/x-python",
   "name": "python",
   "nbconvert_exporter": "python",
   "pygments_lexer": "ipython3",
   "version": "3.11.4"
  }
 },
 "nbformat": 4,
 "nbformat_minor": 5
}
